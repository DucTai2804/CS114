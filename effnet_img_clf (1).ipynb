{
  "cells": [
    {
      "cell_type": "code",
      "source": [
        "from google.colab import drive\n",
        "drive.mount('/content/drive')"
      ],
      "metadata": {
        "colab": {
          "base_uri": "https://localhost:8080/"
        },
        "id": "yu1K3yJHhj2R",
        "outputId": "3cf48e70-2102-4263-c058-bc05c279aa39"
      },
      "id": "yu1K3yJHhj2R",
      "execution_count": null,
      "outputs": [
        {
          "output_type": "stream",
          "name": "stdout",
          "text": [
            "Mounted at /content/drive\n"
          ]
        }
      ]
    },
    {
      "cell_type": "code",
      "source": [
        "!pip install pillow_heif"
      ],
      "metadata": {
        "id": "W5DN_U2biQ3R",
        "colab": {
          "base_uri": "https://localhost:8080/"
        },
        "outputId": "6ea4b2bc-8a28-4723-f066-cc0a52bccd34"
      },
      "id": "W5DN_U2biQ3R",
      "execution_count": null,
      "outputs": [
        {
          "output_type": "stream",
          "name": "stdout",
          "text": [
            "Collecting pillow_heif\n",
            "  Downloading pillow_heif-0.22.0-cp311-cp311-manylinux_2_17_x86_64.manylinux2014_x86_64.whl.metadata (9.6 kB)\n",
            "Requirement already satisfied: pillow>=10.1.0 in /usr/local/lib/python3.11/dist-packages (from pillow_heif) (11.2.1)\n",
            "Downloading pillow_heif-0.22.0-cp311-cp311-manylinux_2_17_x86_64.manylinux2014_x86_64.whl (7.8 MB)\n",
            "\u001b[2K   \u001b[90m━━━━━━━━━━━━━━━━━━━━━━━━━━━━━━━━━━━━━━━━\u001b[0m \u001b[32m7.8/7.8 MB\u001b[0m \u001b[31m25.3 MB/s\u001b[0m eta \u001b[36m0:00:00\u001b[0m\n",
            "\u001b[?25hInstalling collected packages: pillow_heif\n",
            "Successfully installed pillow_heif-0.22.0\n"
          ]
        }
      ]
    },
    {
      "cell_type": "markdown",
      "source": [],
      "metadata": {
        "id": "swuIZcOtiPjL"
      },
      "id": "swuIZcOtiPjL"
    },
    {
      "cell_type": "code",
      "execution_count": null,
      "id": "8e21975d",
      "metadata": {
        "id": "8e21975d",
        "colab": {
          "base_uri": "https://localhost:8080/"
        },
        "outputId": "6f740ec1-9bab-44d1-ad49-6da9c5975074"
      },
      "outputs": [
        {
          "output_type": "stream",
          "name": "stdout",
          "text": [
            "FOUND 7059 IMAGES.\n"
          ]
        }
      ],
      "source": [
        "import glob\n",
        "from torchvision.transforms.v2 import ToTensor\n",
        "from torchvision.io import decode_image\n",
        "from torchvision.transforms.v2.functional import to_image\n",
        "import torch\n",
        "from torch.utils.data import Dataset, DataLoader\n",
        "from tqdm import tqdm\n",
        "import os\n",
        "\n",
        "from PIL import Image\n",
        "import pillow_heif\n",
        "pillow_heif.register_heif_opener()\n",
        "\n",
        "data_dir = r'/content/drive/MyDrive/Teaching/CS114/CS114.P21/handwritten_digit_classification'\n",
        "image_lists = []\n",
        "\n",
        "for subfolder in glob.glob(os.path.join(data_dir, '*', 'hand_written_digit', '??52????')):\n",
        "    for num in range(10):\n",
        "        pattern = os.path.join(subfolder, f'{num}_*.*')\n",
        "        matched = glob.glob(pattern)\n",
        "        image_lists.extend(matched)\n",
        "\n",
        "print(f'FOUND {len(image_lists)} IMAGES.')\n"
      ]
    },
    {
      "cell_type": "code",
      "execution_count": null,
      "id": "7f465425",
      "metadata": {
        "id": "7f465425"
      },
      "outputs": [],
      "source": [
        "class custom_image_dataset(Dataset):\n",
        "    def __init__(self, image_lists, transform=None):\n",
        "        self.image_lists = image_lists\n",
        "        self.transform = transform\n",
        "\n",
        "    from PIL import Image\n",
        "\n",
        "    def __read_image(self, img_path):\n",
        "      try:\n",
        "        image = Image.open(img_path).convert(\"RGB\")  # đảm bảo 3 kênh RGB\n",
        "        label = int(os.path.basename(img_path)[0])\n",
        "        if self.transform:\n",
        "            image = self.transform(image)\n",
        "        return image, label\n",
        "      except Exception as e:\n",
        "          print(f\"[ERROR] Cannot load image {img_path}: {e}\")\n",
        "          return  torch.zeros(3, 288, 288), 0 # None\n",
        "    def __getitem__(self, idx):\n",
        "        return self.__read_image(self.image_lists[idx])\n",
        "\n",
        "    def __len__(self):\n",
        "        return len(self.image_lists)"
      ]
    },
    {
      "cell_type": "code",
      "execution_count": null,
      "id": "f420b153",
      "metadata": {
        "id": "f420b153"
      },
      "outputs": [],
      "source": [
        "import torchvision.transforms.v2 as transforms\n",
        "\n",
        "train_transform = transforms.Compose([\n",
        "    transforms.Resize((288, 288)),\n",
        "    # transforms.RandomResizedCrop((288, 288), scale=(0.8, 1.0), ratio=(0.9, 1.1)),\n",
        "    # transforms.RandomHorizontalFlip(p=0.5),\n",
        "    transforms.RandomRotation(degrees=15),\n",
        "    # transforms.ColorJitter(brightness=0.2, contrast=0.2, saturation=0.1, hue=0.05),\n",
        "    transforms.ToImage(),\n",
        "    transforms.ToDtype(torch.float32, scale=True), # ToTensor\n",
        "    transforms.Normalize(   [0.485, 0.456, 0.406],\n",
        "                            [0.229, 0.224, 0.225])\n",
        "])\n",
        "\n",
        "test_transform = transforms.Compose([\n",
        "    transforms.Resize((288, 288)),\n",
        "    transforms.ToImage(),\n",
        "    transforms.ToDtype(torch.float32, scale=True),\n",
        "    transforms.Normalize(   [0.485, 0.456, 0.406],\n",
        "                            [0.229, 0.224, 0.225])\n",
        "])"
      ]
    },
    {
      "cell_type": "code",
      "execution_count": null,
      "id": "4b4d9c21",
      "metadata": {
        "id": "4b4d9c21"
      },
      "outputs": [],
      "source": [
        "split = int(0.9 * len(image_lists))\n",
        "train_dataset = custom_image_dataset( image_lists[:split],\n",
        "                                    transform=train_transform )\n",
        "test_dataset = custom_image_dataset( image_lists[split:],\n",
        "                                    transform=test_transform )\n",
        "\n",
        "def safe_collate(batch):\n",
        "    batch = [b for b in batch if b is not None]\n",
        "    return torch.utils.data.dataloader.default_collate(batch)\n",
        "\n",
        "train_loader = DataLoader(train_dataset, batch_size=64, shuffle=True, num_workers=2, collate_fn=safe_collate)\n",
        "test_loader = DataLoader(test_dataset, batch_size=64, shuffle=False, num_workers=2, collate_fn=safe_collate)"
      ]
    },
    {
      "cell_type": "code",
      "execution_count": null,
      "id": "6c17412f",
      "metadata": {
        "id": "6c17412f",
        "colab": {
          "base_uri": "https://localhost:8080/"
        },
        "outputId": "824f6ad1-7d16-4a44-9373-270a175d5793"
      },
      "outputs": [
        {
          "output_type": "stream",
          "name": "stdout",
          "text": [
            "Using cpu device\n"
          ]
        },
        {
          "output_type": "stream",
          "name": "stderr",
          "text": [
            "Downloading: \"https://download.pytorch.org/models/efficientnet_b2_rwightman-c35c1473.pth\" to /root/.cache/torch/hub/checkpoints/efficientnet_b2_rwightman-c35c1473.pth\n",
            "100%|██████████| 35.2M/35.2M [00:00<00:00, 50.1MB/s]\n"
          ]
        }
      ],
      "source": [
        "from torchvision import models\n",
        "import torch.nn as nn\n",
        "\n",
        "device = torch.device(\"cuda\" if torch.cuda.is_available() else \"cpu\")\n",
        "print(f\"Using {device} device\")\n",
        "\n",
        "model = models.efficientnet_b2(weights='IMAGENET1K_V1')\n",
        "num_ftrs = model.classifier[1].in_features\n",
        "model.classifier = nn.Sequential(\n",
        "    nn.Dropout(p=0.3, inplace=True),\n",
        "    nn.Linear(in_features=num_ftrs, out_features=10)  # 10 digits\n",
        ")\n",
        "# model.fc = nn.Linear(num_ftrs, 10)  # 10 classes for digits (0-9)\n",
        "model = model.to(device)\n",
        "\n",
        "criterion = nn.CrossEntropyLoss()\n",
        "\n",
        "optimizer = torch.optim.Adam(\n",
        "    model.parameters(),\n",
        "    lr=0.0001,\n",
        "    weight_decay=1e-4\n",
        ")\n",
        "\n",
        "scheduler = torch.optim.lr_scheduler.StepLR(optimizer, step_size=7, gamma=0.1)"
      ]
    },
    {
      "cell_type": "code",
      "execution_count": null,
      "id": "2ac0b741",
      "metadata": {
        "id": "2ac0b741"
      },
      "outputs": [],
      "source": [
        "import time\n",
        "import copy\n",
        "\n",
        "def train_model(model, criterion, optimizer, scheduler,\n",
        "                train_loader, test_loader, num_epochs=25, patience=2, save_path='best_model.pth'):\n",
        "    since = time.time()\n",
        "    best_model_wts = copy.deepcopy(model.state_dict())\n",
        "    best_acc = 0.0\n",
        "    no_improve = 0  # Đếm số epoch không cải thiện\n",
        "\n",
        "    for epoch in range(num_epochs):\n",
        "        print(f'\\nEpoch {epoch}/{num_epochs - 1}')\n",
        "        print('-' * 10)\n",
        "\n",
        "        for phase in ['train', 'val']:\n",
        "            model.train() if phase == 'train' else model.eval()\n",
        "            dataloader = train_loader if phase == 'train' else test_loader\n",
        "\n",
        "            running_loss = 0.0\n",
        "            running_corrects = 0\n",
        "\n",
        "            for inputs, labels in tqdm(dataloader):\n",
        "                inputs = inputs.to(device)\n",
        "                labels = labels.to(device)\n",
        "\n",
        "                optimizer.zero_grad()\n",
        "                with torch.set_grad_enabled(phase == 'train'):\n",
        "                    outputs = model(inputs)\n",
        "                    _, preds = torch.max(outputs, 1)\n",
        "                    loss = criterion(outputs, labels)\n",
        "\n",
        "                    if phase == 'train':\n",
        "                        loss.backward()\n",
        "                        optimizer.step()\n",
        "\n",
        "                running_loss += loss.item() * inputs.size(0)\n",
        "                running_corrects += torch.sum(preds == labels.data)\n",
        "\n",
        "            if phase == 'train':\n",
        "                scheduler.step()\n",
        "\n",
        "            epoch_loss = running_loss / len(dataloader.dataset)\n",
        "            epoch_acc = running_corrects.double() / len(dataloader.dataset)\n",
        "\n",
        "            print(f'{phase} Loss: {epoch_loss:.4f} Acc: {epoch_acc:.4f}')\n",
        "\n",
        "            # Kiểm tra cải thiện trên tập validation\n",
        "            if phase == 'val':\n",
        "                if epoch_acc > best_acc:\n",
        "                    best_acc = epoch_acc\n",
        "                    best_model_wts = copy.deepcopy(model.state_dict())\n",
        "                    no_improve = 0  # reset lại\n",
        "                    # Lưu model\n",
        "                    torch.save(model.state_dict(), save_path)\n",
        "                    print(f\"Saved new best model with acc: {best_acc:.4f}\")\n",
        "                else:\n",
        "                    no_improve += 1\n",
        "                    print(f\"No improvement for {no_improve} epoch(s).\")\n",
        "\n",
        "        # Dừng sớm nếu không cải thiện liên tục\n",
        "        if no_improve >= patience:\n",
        "            print(f\"\\nEarly stopping triggered after {patience} epoch(s) without improvement.\")\n",
        "            break\n",
        "\n",
        "    time_elapsed = time.time() - since\n",
        "    print(f'\\nTraining complete in {time_elapsed // 60:.0f}m {time_elapsed % 60:.0f}s')\n",
        "    print(f'Best val Acc: {best_acc:.4f}')\n",
        "\n",
        "    model.load_state_dict(best_model_wts)\n",
        "    return model\n",
        "\n"
      ]
    },
    {
      "cell_type": "code",
      "execution_count": null,
      "id": "55ba7134",
      "metadata": {
        "id": "55ba7134",
        "colab": {
          "base_uri": "https://localhost:8080/"
        },
        "outputId": "92395717-850d-4a11-9b8a-eb8c09ee7c85"
      },
      "outputs": [
        {
          "output_type": "stream",
          "name": "stdout",
          "text": [
            "\n",
            "Epoch 0/14\n",
            "----------\n"
          ]
        },
        {
          "output_type": "stream",
          "name": "stderr",
          "text": [
            "100%|██████████| 100/100 [42:45<00:00, 25.66s/it]\n"
          ]
        },
        {
          "output_type": "stream",
          "name": "stdout",
          "text": [
            "train Loss: 1.7613 Acc: 0.4502\n"
          ]
        },
        {
          "output_type": "stream",
          "name": "stderr",
          "text": [
            " 67%|██████▋   | 8/12 [03:27<01:23, 20.80s/it]"
          ]
        },
        {
          "output_type": "stream",
          "name": "stdout",
          "text": [
            "[ERROR] Cannot load image /content/drive/MyDrive/Teaching/CS114/CS114.P21/handwritten_digit_classification/NThong325_CS114/hand_written_digit/23521523/0_5.jpeg: cannot identify image file '/content/drive/MyDrive/Teaching/CS114/CS114.P21/handwritten_digit_classification/NThong325_CS114/hand_written_digit/23521523/0_5.jpeg'\n",
            "[ERROR] Cannot load image /content/drive/MyDrive/Teaching/CS114/CS114.P21/handwritten_digit_classification/NThong325_CS114/hand_written_digit/23521523/0_6.jpeg: cannot identify image file '/content/drive/MyDrive/Teaching/CS114/CS114.P21/handwritten_digit_classification/NThong325_CS114/hand_written_digit/23521523/0_6.jpeg'\n",
            "[ERROR] Cannot load image /content/drive/MyDrive/Teaching/CS114/CS114.P21/handwritten_digit_classification/NThong325_CS114/hand_written_digit/23521523/3_6.jpeg: cannot identify image file '/content/drive/MyDrive/Teaching/CS114/CS114.P21/handwritten_digit_classification/NThong325_CS114/hand_written_digit/23521523/3_6.jpeg'\n"
          ]
        },
        {
          "output_type": "stream",
          "name": "stderr",
          "text": [
            "\r 75%|███████▌  | 9/12 [04:19<01:31, 30.37s/it]"
          ]
        },
        {
          "output_type": "stream",
          "name": "stdout",
          "text": [
            "[ERROR] Cannot load image /content/drive/MyDrive/Teaching/CS114/CS114.P21/handwritten_digit_classification/NThong325_CS114/hand_written_digit/23521523/4_9.jpeg: cannot identify image file '/content/drive/MyDrive/Teaching/CS114/CS114.P21/handwritten_digit_classification/NThong325_CS114/hand_written_digit/23521523/4_9.jpeg'\n"
          ]
        },
        {
          "output_type": "stream",
          "name": "stderr",
          "text": [
            "\r 83%|████████▎ | 10/12 [04:22<00:44, 22.05s/it]"
          ]
        },
        {
          "output_type": "stream",
          "name": "stdout",
          "text": [
            "[ERROR] Cannot load image /content/drive/MyDrive/Teaching/CS114/CS114.P21/handwritten_digit_classification/NThong325_CS114/hand_written_digit/23521523/6_1.jpeg: cannot identify image file '/content/drive/MyDrive/Teaching/CS114/CS114.P21/handwritten_digit_classification/NThong325_CS114/hand_written_digit/23521523/6_1.jpeg'\n",
            "[ERROR] Cannot load image /content/drive/MyDrive/Teaching/CS114/CS114.P21/handwritten_digit_classification/NThong325_CS114/hand_written_digit/23521523/6_4.jpeg: cannot identify image file '/content/drive/MyDrive/Teaching/CS114/CS114.P21/handwritten_digit_classification/NThong325_CS114/hand_written_digit/23521523/6_4.jpeg'\n",
            "[ERROR] Cannot load image /content/drive/MyDrive/Teaching/CS114/CS114.P21/handwritten_digit_classification/NThong325_CS114/hand_written_digit/23521523/6_9.jpeg: cannot identify image file '/content/drive/MyDrive/Teaching/CS114/CS114.P21/handwritten_digit_classification/NThong325_CS114/hand_written_digit/23521523/6_9.jpeg'\n",
            "[ERROR] Cannot load image /content/drive/MyDrive/Teaching/CS114/CS114.P21/handwritten_digit_classification/NThong325_CS114/hand_written_digit/23521523/6_5.jpeg: cannot identify image file '/content/drive/MyDrive/Teaching/CS114/CS114.P21/handwritten_digit_classification/NThong325_CS114/hand_written_digit/23521523/6_5.jpeg'\n",
            "[ERROR] Cannot load image /content/drive/MyDrive/Teaching/CS114/CS114.P21/handwritten_digit_classification/NThong325_CS114/hand_written_digit/23521523/6_6.jpeg: cannot identify image file '/content/drive/MyDrive/Teaching/CS114/CS114.P21/handwritten_digit_classification/NThong325_CS114/hand_written_digit/23521523/6_6.jpeg'\n",
            "[ERROR] Cannot load image /content/drive/MyDrive/Teaching/CS114/CS114.P21/handwritten_digit_classification/NThong325_CS114/hand_written_digit/23521523/7_8.jpeg: cannot identify image file '/content/drive/MyDrive/Teaching/CS114/CS114.P21/handwritten_digit_classification/NThong325_CS114/hand_written_digit/23521523/7_8.jpeg'\n",
            "[ERROR] Cannot load image /content/drive/MyDrive/Teaching/CS114/CS114.P21/handwritten_digit_classification/NThong325_CS114/hand_written_digit/23521523/7_10.jpeg: cannot identify image file '/content/drive/MyDrive/Teaching/CS114/CS114.P21/handwritten_digit_classification/NThong325_CS114/hand_written_digit/23521523/7_10.jpeg'\n",
            "[ERROR] Cannot load image /content/drive/MyDrive/Teaching/CS114/CS114.P21/handwritten_digit_classification/NThong325_CS114/hand_written_digit/23521523/8_1.jpeg: cannot identify image file '/content/drive/MyDrive/Teaching/CS114/CS114.P21/handwritten_digit_classification/NThong325_CS114/hand_written_digit/23521523/8_1.jpeg'\n"
          ]
        },
        {
          "output_type": "stream",
          "name": "stderr",
          "text": [
            "100%|██████████| 12/12 [05:20<00:00, 26.67s/it]\n"
          ]
        },
        {
          "output_type": "stream",
          "name": "stdout",
          "text": [
            "val Loss: 1.0167 Acc: 0.6856\n",
            "Saved new best model with acc: 0.6856\n",
            "\n",
            "Epoch 1/14\n",
            "----------\n"
          ]
        },
        {
          "output_type": "stream",
          "name": "stderr",
          "text": [
            "100%|██████████| 100/100 [03:52<00:00,  2.32s/it]\n"
          ]
        },
        {
          "output_type": "stream",
          "name": "stdout",
          "text": [
            "train Loss: 0.4634 Acc: 0.8917\n"
          ]
        },
        {
          "output_type": "stream",
          "name": "stderr",
          "text": [
            " 67%|██████▋   | 8/12 [00:11<00:03,  1.27it/s]"
          ]
        },
        {
          "output_type": "stream",
          "name": "stdout",
          "text": [
            "[ERROR] Cannot load image /content/drive/MyDrive/Teaching/CS114/CS114.P21/handwritten_digit_classification/NThong325_CS114/hand_written_digit/23521523/0_5.jpeg: cannot identify image file '/content/drive/MyDrive/Teaching/CS114/CS114.P21/handwritten_digit_classification/NThong325_CS114/hand_written_digit/23521523/0_5.jpeg'\n",
            "[ERROR] Cannot load image /content/drive/MyDrive/Teaching/CS114/CS114.P21/handwritten_digit_classification/NThong325_CS114/hand_written_digit/23521523/0_6.jpeg: cannot identify image file '/content/drive/MyDrive/Teaching/CS114/CS114.P21/handwritten_digit_classification/NThong325_CS114/hand_written_digit/23521523/0_6.jpeg'\n"
          ]
        },
        {
          "output_type": "stream",
          "name": "stderr",
          "text": [
            "\r 75%|███████▌  | 9/12 [00:15<00:04,  1.65s/it]"
          ]
        },
        {
          "output_type": "stream",
          "name": "stdout",
          "text": [
            "[ERROR] Cannot load image /content/drive/MyDrive/Teaching/CS114/CS114.P21/handwritten_digit_classification/NThong325_CS114/hand_written_digit/23521523/6_1.jpeg: cannot identify image file '/content/drive/MyDrive/Teaching/CS114/CS114.P21/handwritten_digit_classification/NThong325_CS114/hand_written_digit/23521523/6_1.jpeg'\n",
            "[ERROR] Cannot load image /content/drive/MyDrive/Teaching/CS114/CS114.P21/handwritten_digit_classification/NThong325_CS114/hand_written_digit/23521523/6_4.jpeg: cannot identify image file '/content/drive/MyDrive/Teaching/CS114/CS114.P21/handwritten_digit_classification/NThong325_CS114/hand_written_digit/23521523/6_4.jpeg'\n",
            "[ERROR] Cannot load image /content/drive/MyDrive/Teaching/CS114/CS114.P21/handwritten_digit_classification/NThong325_CS114/hand_written_digit/23521523/6_9.jpeg: cannot identify image file '/content/drive/MyDrive/Teaching/CS114/CS114.P21/handwritten_digit_classification/NThong325_CS114/hand_written_digit/23521523/6_9.jpeg'\n",
            "[ERROR] Cannot load image /content/drive/MyDrive/Teaching/CS114/CS114.P21/handwritten_digit_classification/NThong325_CS114/hand_written_digit/23521523/6_5.jpeg: cannot identify image file '/content/drive/MyDrive/Teaching/CS114/CS114.P21/handwritten_digit_classification/NThong325_CS114/hand_written_digit/23521523/6_5.jpeg'\n",
            "[ERROR] Cannot load image /content/drive/MyDrive/Teaching/CS114/CS114.P21/handwritten_digit_classification/NThong325_CS114/hand_written_digit/23521523/6_6.jpeg: cannot identify image file '/content/drive/MyDrive/Teaching/CS114/CS114.P21/handwritten_digit_classification/NThong325_CS114/hand_written_digit/23521523/6_6.jpeg'\n",
            "[ERROR] Cannot load image /content/drive/MyDrive/Teaching/CS114/CS114.P21/handwritten_digit_classification/NThong325_CS114/hand_written_digit/23521523/3_6.jpeg: cannot identify image file '/content/drive/MyDrive/Teaching/CS114/CS114.P21/handwritten_digit_classification/NThong325_CS114/hand_written_digit/23521523/3_6.jpeg'\n",
            "[ERROR] Cannot load image /content/drive/MyDrive/Teaching/CS114/CS114.P21/handwritten_digit_classification/NThong325_CS114/hand_written_digit/23521523/7_8.jpeg: cannot identify image file '/content/drive/MyDrive/Teaching/CS114/CS114.P21/handwritten_digit_classification/NThong325_CS114/hand_written_digit/23521523/7_8.jpeg'\n",
            "[ERROR] Cannot load image /content/drive/MyDrive/Teaching/CS114/CS114.P21/handwritten_digit_classification/NThong325_CS114/hand_written_digit/23521523/7_10.jpeg: cannot identify image file '/content/drive/MyDrive/Teaching/CS114/CS114.P21/handwritten_digit_classification/NThong325_CS114/hand_written_digit/23521523/7_10.jpeg'\n",
            "[ERROR] Cannot load image /content/drive/MyDrive/Teaching/CS114/CS114.P21/handwritten_digit_classification/NThong325_CS114/hand_written_digit/23521523/4_9.jpeg: cannot identify image file '/content/drive/MyDrive/Teaching/CS114/CS114.P21/handwritten_digit_classification/NThong325_CS114/hand_written_digit/23521523/4_9.jpeg'\n"
          ]
        },
        {
          "output_type": "stream",
          "name": "stderr",
          "text": [
            "\r 83%|████████▎ | 10/12 [00:23<00:07,  3.61s/it]"
          ]
        },
        {
          "output_type": "stream",
          "name": "stdout",
          "text": [
            "[ERROR] Cannot load image /content/drive/MyDrive/Teaching/CS114/CS114.P21/handwritten_digit_classification/NThong325_CS114/hand_written_digit/23521523/8_1.jpeg: cannot identify image file '/content/drive/MyDrive/Teaching/CS114/CS114.P21/handwritten_digit_classification/NThong325_CS114/hand_written_digit/23521523/8_1.jpeg'\n"
          ]
        },
        {
          "output_type": "stream",
          "name": "stderr",
          "text": [
            "100%|██████████| 12/12 [00:28<00:00,  2.36s/it]\n"
          ]
        },
        {
          "output_type": "stream",
          "name": "stdout",
          "text": [
            "val Loss: 0.6516 Acc: 0.7776\n",
            "Saved new best model with acc: 0.7776\n",
            "\n",
            "Epoch 2/14\n",
            "----------\n"
          ]
        },
        {
          "output_type": "stream",
          "name": "stderr",
          "text": [
            "100%|██████████| 100/100 [03:58<00:00,  2.39s/it]\n"
          ]
        },
        {
          "output_type": "stream",
          "name": "stdout",
          "text": [
            "train Loss: 0.2025 Acc: 0.9455\n"
          ]
        },
        {
          "output_type": "stream",
          "name": "stderr",
          "text": [
            " 67%|██████▋   | 8/12 [00:12<00:03,  1.17it/s]"
          ]
        },
        {
          "output_type": "stream",
          "name": "stdout",
          "text": [
            "[ERROR] Cannot load image /content/drive/MyDrive/Teaching/CS114/CS114.P21/handwritten_digit_classification/NThong325_CS114/hand_written_digit/23521523/0_5.jpeg: cannot identify image file '/content/drive/MyDrive/Teaching/CS114/CS114.P21/handwritten_digit_classification/NThong325_CS114/hand_written_digit/23521523/0_5.jpeg'\n",
            "[ERROR] Cannot load image /content/drive/MyDrive/Teaching/CS114/CS114.P21/handwritten_digit_classification/NThong325_CS114/hand_written_digit/23521523/0_6.jpeg: cannot identify image file '/content/drive/MyDrive/Teaching/CS114/CS114.P21/handwritten_digit_classification/NThong325_CS114/hand_written_digit/23521523/0_6.jpeg'\n"
          ]
        },
        {
          "output_type": "stream",
          "name": "stderr",
          "text": [
            "\r 75%|███████▌  | 9/12 [00:14<00:03,  1.22s/it]"
          ]
        },
        {
          "output_type": "stream",
          "name": "stdout",
          "text": [
            "[ERROR] Cannot load image /content/drive/MyDrive/Teaching/CS114/CS114.P21/handwritten_digit_classification/NThong325_CS114/hand_written_digit/23521523/6_1.jpeg: cannot identify image file '/content/drive/MyDrive/Teaching/CS114/CS114.P21/handwritten_digit_classification/NThong325_CS114/hand_written_digit/23521523/6_1.jpeg'\n",
            "[ERROR] Cannot load image /content/drive/MyDrive/Teaching/CS114/CS114.P21/handwritten_digit_classification/NThong325_CS114/hand_written_digit/23521523/6_4.jpeg: cannot identify image file '/content/drive/MyDrive/Teaching/CS114/CS114.P21/handwritten_digit_classification/NThong325_CS114/hand_written_digit/23521523/6_4.jpeg'\n",
            "[ERROR] Cannot load image /content/drive/MyDrive/Teaching/CS114/CS114.P21/handwritten_digit_classification/NThong325_CS114/hand_written_digit/23521523/6_9.jpeg: cannot identify image file '/content/drive/MyDrive/Teaching/CS114/CS114.P21/handwritten_digit_classification/NThong325_CS114/hand_written_digit/23521523/6_9.jpeg'\n",
            "[ERROR] Cannot load image /content/drive/MyDrive/Teaching/CS114/CS114.P21/handwritten_digit_classification/NThong325_CS114/hand_written_digit/23521523/6_5.jpeg: cannot identify image file '/content/drive/MyDrive/Teaching/CS114/CS114.P21/handwritten_digit_classification/NThong325_CS114/hand_written_digit/23521523/6_5.jpeg'\n",
            "[ERROR] Cannot load image /content/drive/MyDrive/Teaching/CS114/CS114.P21/handwritten_digit_classification/NThong325_CS114/hand_written_digit/23521523/6_6.jpeg: cannot identify image file '/content/drive/MyDrive/Teaching/CS114/CS114.P21/handwritten_digit_classification/NThong325_CS114/hand_written_digit/23521523/6_6.jpeg'\n",
            "[ERROR] Cannot load image /content/drive/MyDrive/Teaching/CS114/CS114.P21/handwritten_digit_classification/NThong325_CS114/hand_written_digit/23521523/3_6.jpeg: cannot identify image file '/content/drive/MyDrive/Teaching/CS114/CS114.P21/handwritten_digit_classification/NThong325_CS114/hand_written_digit/23521523/3_6.jpeg'\n",
            "[ERROR] Cannot load image /content/drive/MyDrive/Teaching/CS114/CS114.P21/handwritten_digit_classification/NThong325_CS114/hand_written_digit/23521523/7_8.jpeg: cannot identify image file '/content/drive/MyDrive/Teaching/CS114/CS114.P21/handwritten_digit_classification/NThong325_CS114/hand_written_digit/23521523/7_8.jpeg'\n",
            "[ERROR] Cannot load image /content/drive/MyDrive/Teaching/CS114/CS114.P21/handwritten_digit_classification/NThong325_CS114/hand_written_digit/23521523/7_10.jpeg: cannot identify image file '/content/drive/MyDrive/Teaching/CS114/CS114.P21/handwritten_digit_classification/NThong325_CS114/hand_written_digit/23521523/7_10.jpeg'\n",
            "[ERROR] Cannot load image /content/drive/MyDrive/Teaching/CS114/CS114.P21/handwritten_digit_classification/NThong325_CS114/hand_written_digit/23521523/4_9.jpeg: cannot identify image file '/content/drive/MyDrive/Teaching/CS114/CS114.P21/handwritten_digit_classification/NThong325_CS114/hand_written_digit/23521523/4_9.jpeg'\n"
          ]
        },
        {
          "output_type": "stream",
          "name": "stderr",
          "text": [
            "\r 83%|████████▎ | 10/12 [00:24<00:07,  3.76s/it]"
          ]
        },
        {
          "output_type": "stream",
          "name": "stdout",
          "text": [
            "[ERROR] Cannot load image /content/drive/MyDrive/Teaching/CS114/CS114.P21/handwritten_digit_classification/NThong325_CS114/hand_written_digit/23521523/8_1.jpeg: cannot identify image file '/content/drive/MyDrive/Teaching/CS114/CS114.P21/handwritten_digit_classification/NThong325_CS114/hand_written_digit/23521523/8_1.jpeg'\n"
          ]
        },
        {
          "output_type": "stream",
          "name": "stderr",
          "text": [
            "100%|██████████| 12/12 [00:28<00:00,  2.37s/it]\n"
          ]
        },
        {
          "output_type": "stream",
          "name": "stdout",
          "text": [
            "val Loss: 0.6196 Acc: 0.7918\n",
            "Saved new best model with acc: 0.7918\n",
            "\n",
            "Epoch 3/14\n",
            "----------\n"
          ]
        },
        {
          "output_type": "stream",
          "name": "stderr",
          "text": [
            "100%|██████████| 100/100 [03:57<00:00,  2.37s/it]\n"
          ]
        },
        {
          "output_type": "stream",
          "name": "stdout",
          "text": [
            "train Loss: 0.1327 Acc: 0.9636\n"
          ]
        },
        {
          "output_type": "stream",
          "name": "stderr",
          "text": [
            " 50%|█████     | 6/12 [00:11<00:06,  1.07s/it]"
          ]
        },
        {
          "output_type": "stream",
          "name": "stdout",
          "text": [
            "[ERROR] Cannot load image /content/drive/MyDrive/Teaching/CS114/CS114.P21/handwritten_digit_classification/NThong325_CS114/hand_written_digit/23521523/0_5.jpeg: cannot identify image file '/content/drive/MyDrive/Teaching/CS114/CS114.P21/handwritten_digit_classification/NThong325_CS114/hand_written_digit/23521523/0_5.jpeg'\n"
          ]
        },
        {
          "output_type": "stream",
          "name": "stderr",
          "text": [
            " 67%|██████▋   | 8/12 [00:12<00:03,  1.20it/s]"
          ]
        },
        {
          "output_type": "stream",
          "name": "stdout",
          "text": [
            "[ERROR] Cannot load image /content/drive/MyDrive/Teaching/CS114/CS114.P21/handwritten_digit_classification/NThong325_CS114/hand_written_digit/23521523/0_6.jpeg: cannot identify image file '/content/drive/MyDrive/Teaching/CS114/CS114.P21/handwritten_digit_classification/NThong325_CS114/hand_written_digit/23521523/0_6.jpeg'\n"
          ]
        },
        {
          "output_type": "stream",
          "name": "stderr",
          "text": [
            "\r 75%|███████▌  | 9/12 [00:15<00:03,  1.21s/it]"
          ]
        },
        {
          "output_type": "stream",
          "name": "stdout",
          "text": [
            "[ERROR] Cannot load image /content/drive/MyDrive/Teaching/CS114/CS114.P21/handwritten_digit_classification/NThong325_CS114/hand_written_digit/23521523/6_1.jpeg: cannot identify image file '/content/drive/MyDrive/Teaching/CS114/CS114.P21/handwritten_digit_classification/NThong325_CS114/hand_written_digit/23521523/6_1.jpeg'\n",
            "[ERROR] Cannot load image /content/drive/MyDrive/Teaching/CS114/CS114.P21/handwritten_digit_classification/NThong325_CS114/hand_written_digit/23521523/6_4.jpeg: cannot identify image file '/content/drive/MyDrive/Teaching/CS114/CS114.P21/handwritten_digit_classification/NThong325_CS114/hand_written_digit/23521523/6_4.jpeg'\n",
            "[ERROR] Cannot load image /content/drive/MyDrive/Teaching/CS114/CS114.P21/handwritten_digit_classification/NThong325_CS114/hand_written_digit/23521523/6_9.jpeg: cannot identify image file '/content/drive/MyDrive/Teaching/CS114/CS114.P21/handwritten_digit_classification/NThong325_CS114/hand_written_digit/23521523/6_9.jpeg'\n",
            "[ERROR] Cannot load image /content/drive/MyDrive/Teaching/CS114/CS114.P21/handwritten_digit_classification/NThong325_CS114/hand_written_digit/23521523/6_5.jpeg: cannot identify image file '/content/drive/MyDrive/Teaching/CS114/CS114.P21/handwritten_digit_classification/NThong325_CS114/hand_written_digit/23521523/6_5.jpeg'\n",
            "[ERROR] Cannot load image /content/drive/MyDrive/Teaching/CS114/CS114.P21/handwritten_digit_classification/NThong325_CS114/hand_written_digit/23521523/6_6.jpeg: cannot identify image file '/content/drive/MyDrive/Teaching/CS114/CS114.P21/handwritten_digit_classification/NThong325_CS114/hand_written_digit/23521523/6_6.jpeg'\n",
            "[ERROR] Cannot load image /content/drive/MyDrive/Teaching/CS114/CS114.P21/handwritten_digit_classification/NThong325_CS114/hand_written_digit/23521523/3_6.jpeg: cannot identify image file '/content/drive/MyDrive/Teaching/CS114/CS114.P21/handwritten_digit_classification/NThong325_CS114/hand_written_digit/23521523/3_6.jpeg'\n",
            "[ERROR] Cannot load image /content/drive/MyDrive/Teaching/CS114/CS114.P21/handwritten_digit_classification/NThong325_CS114/hand_written_digit/23521523/7_8.jpeg: cannot identify image file '/content/drive/MyDrive/Teaching/CS114/CS114.P21/handwritten_digit_classification/NThong325_CS114/hand_written_digit/23521523/7_8.jpeg'\n",
            "[ERROR] Cannot load image /content/drive/MyDrive/Teaching/CS114/CS114.P21/handwritten_digit_classification/NThong325_CS114/hand_written_digit/23521523/7_10.jpeg: cannot identify image file '/content/drive/MyDrive/Teaching/CS114/CS114.P21/handwritten_digit_classification/NThong325_CS114/hand_written_digit/23521523/7_10.jpeg'\n",
            "[ERROR] Cannot load image /content/drive/MyDrive/Teaching/CS114/CS114.P21/handwritten_digit_classification/NThong325_CS114/hand_written_digit/23521523/4_9.jpeg: cannot identify image file '/content/drive/MyDrive/Teaching/CS114/CS114.P21/handwritten_digit_classification/NThong325_CS114/hand_written_digit/23521523/4_9.jpeg'\n"
          ]
        },
        {
          "output_type": "stream",
          "name": "stderr",
          "text": [
            "\r 83%|████████▎ | 10/12 [00:24<00:07,  3.88s/it]"
          ]
        },
        {
          "output_type": "stream",
          "name": "stdout",
          "text": [
            "[ERROR] Cannot load image /content/drive/MyDrive/Teaching/CS114/CS114.P21/handwritten_digit_classification/NThong325_CS114/hand_written_digit/23521523/8_1.jpeg: cannot identify image file '/content/drive/MyDrive/Teaching/CS114/CS114.P21/handwritten_digit_classification/NThong325_CS114/hand_written_digit/23521523/8_1.jpeg'\n"
          ]
        },
        {
          "output_type": "stream",
          "name": "stderr",
          "text": [
            "100%|██████████| 12/12 [00:29<00:00,  2.43s/it]\n"
          ]
        },
        {
          "output_type": "stream",
          "name": "stdout",
          "text": [
            "val Loss: 0.6679 Acc: 0.8045\n",
            "Saved new best model with acc: 0.8045\n",
            "\n",
            "Epoch 4/14\n",
            "----------\n"
          ]
        },
        {
          "output_type": "stream",
          "name": "stderr",
          "text": [
            "100%|██████████| 100/100 [03:55<00:00,  2.36s/it]\n"
          ]
        },
        {
          "output_type": "stream",
          "name": "stdout",
          "text": [
            "train Loss: 0.1022 Acc: 0.9703\n"
          ]
        },
        {
          "output_type": "stream",
          "name": "stderr",
          "text": [
            " 58%|█████▊    | 7/12 [00:12<00:05,  1.09s/it]"
          ]
        },
        {
          "output_type": "stream",
          "name": "stdout",
          "text": [
            "[ERROR] Cannot load image /content/drive/MyDrive/Teaching/CS114/CS114.P21/handwritten_digit_classification/NThong325_CS114/hand_written_digit/23521523/0_5.jpeg: cannot identify image file '/content/drive/MyDrive/Teaching/CS114/CS114.P21/handwritten_digit_classification/NThong325_CS114/hand_written_digit/23521523/0_5.jpeg'\n"
          ]
        },
        {
          "output_type": "stream",
          "name": "stderr",
          "text": [
            "\r 67%|██████▋   | 8/12 [00:12<00:03,  1.23it/s]"
          ]
        },
        {
          "output_type": "stream",
          "name": "stdout",
          "text": [
            "[ERROR] Cannot load image /content/drive/MyDrive/Teaching/CS114/CS114.P21/handwritten_digit_classification/NThong325_CS114/hand_written_digit/23521523/0_6.jpeg: cannot identify image file '/content/drive/MyDrive/Teaching/CS114/CS114.P21/handwritten_digit_classification/NThong325_CS114/hand_written_digit/23521523/0_6.jpeg'\n"
          ]
        },
        {
          "output_type": "stream",
          "name": "stderr",
          "text": [
            "\r 75%|███████▌  | 9/12 [00:15<00:03,  1.22s/it]"
          ]
        },
        {
          "output_type": "stream",
          "name": "stdout",
          "text": [
            "[ERROR] Cannot load image /content/drive/MyDrive/Teaching/CS114/CS114.P21/handwritten_digit_classification/NThong325_CS114/hand_written_digit/23521523/6_1.jpeg: cannot identify image file '/content/drive/MyDrive/Teaching/CS114/CS114.P21/handwritten_digit_classification/NThong325_CS114/hand_written_digit/23521523/6_1.jpeg'\n",
            "[ERROR] Cannot load image /content/drive/MyDrive/Teaching/CS114/CS114.P21/handwritten_digit_classification/NThong325_CS114/hand_written_digit/23521523/6_4.jpeg: cannot identify image file '/content/drive/MyDrive/Teaching/CS114/CS114.P21/handwritten_digit_classification/NThong325_CS114/hand_written_digit/23521523/6_4.jpeg'\n",
            "[ERROR] Cannot load image /content/drive/MyDrive/Teaching/CS114/CS114.P21/handwritten_digit_classification/NThong325_CS114/hand_written_digit/23521523/6_9.jpeg: cannot identify image file '/content/drive/MyDrive/Teaching/CS114/CS114.P21/handwritten_digit_classification/NThong325_CS114/hand_written_digit/23521523/6_9.jpeg'\n",
            "[ERROR] Cannot load image /content/drive/MyDrive/Teaching/CS114/CS114.P21/handwritten_digit_classification/NThong325_CS114/hand_written_digit/23521523/6_5.jpeg: cannot identify image file '/content/drive/MyDrive/Teaching/CS114/CS114.P21/handwritten_digit_classification/NThong325_CS114/hand_written_digit/23521523/6_5.jpeg'\n",
            "[ERROR] Cannot load image /content/drive/MyDrive/Teaching/CS114/CS114.P21/handwritten_digit_classification/NThong325_CS114/hand_written_digit/23521523/6_6.jpeg: cannot identify image file '/content/drive/MyDrive/Teaching/CS114/CS114.P21/handwritten_digit_classification/NThong325_CS114/hand_written_digit/23521523/6_6.jpeg'\n",
            "[ERROR] Cannot load image /content/drive/MyDrive/Teaching/CS114/CS114.P21/handwritten_digit_classification/NThong325_CS114/hand_written_digit/23521523/3_6.jpeg: cannot identify image file '/content/drive/MyDrive/Teaching/CS114/CS114.P21/handwritten_digit_classification/NThong325_CS114/hand_written_digit/23521523/3_6.jpeg'\n",
            "[ERROR] Cannot load image /content/drive/MyDrive/Teaching/CS114/CS114.P21/handwritten_digit_classification/NThong325_CS114/hand_written_digit/23521523/7_8.jpeg: cannot identify image file '/content/drive/MyDrive/Teaching/CS114/CS114.P21/handwritten_digit_classification/NThong325_CS114/hand_written_digit/23521523/7_8.jpeg'\n",
            "[ERROR] Cannot load image /content/drive/MyDrive/Teaching/CS114/CS114.P21/handwritten_digit_classification/NThong325_CS114/hand_written_digit/23521523/7_10.jpeg: cannot identify image file '/content/drive/MyDrive/Teaching/CS114/CS114.P21/handwritten_digit_classification/NThong325_CS114/hand_written_digit/23521523/7_10.jpeg'\n",
            "[ERROR] Cannot load image /content/drive/MyDrive/Teaching/CS114/CS114.P21/handwritten_digit_classification/NThong325_CS114/hand_written_digit/23521523/4_9.jpeg: cannot identify image file '/content/drive/MyDrive/Teaching/CS114/CS114.P21/handwritten_digit_classification/NThong325_CS114/hand_written_digit/23521523/4_9.jpeg'\n"
          ]
        },
        {
          "output_type": "stream",
          "name": "stderr",
          "text": [
            "\r 83%|████████▎ | 10/12 [00:24<00:07,  3.73s/it]"
          ]
        },
        {
          "output_type": "stream",
          "name": "stdout",
          "text": [
            "[ERROR] Cannot load image /content/drive/MyDrive/Teaching/CS114/CS114.P21/handwritten_digit_classification/NThong325_CS114/hand_written_digit/23521523/8_1.jpeg: cannot identify image file '/content/drive/MyDrive/Teaching/CS114/CS114.P21/handwritten_digit_classification/NThong325_CS114/hand_written_digit/23521523/8_1.jpeg'\n"
          ]
        },
        {
          "output_type": "stream",
          "name": "stderr",
          "text": [
            "100%|██████████| 12/12 [00:28<00:00,  2.40s/it]\n"
          ]
        },
        {
          "output_type": "stream",
          "name": "stdout",
          "text": [
            "val Loss: 0.6253 Acc: 0.8045\n",
            "No improvement for 1 epoch(s).\n",
            "\n",
            "Epoch 5/14\n",
            "----------\n"
          ]
        },
        {
          "output_type": "stream",
          "name": "stderr",
          "text": [
            "100%|██████████| 100/100 [03:53<00:00,  2.34s/it]\n"
          ]
        },
        {
          "output_type": "stream",
          "name": "stdout",
          "text": [
            "train Loss: 0.0848 Acc: 0.9732\n"
          ]
        },
        {
          "output_type": "stream",
          "name": "stderr",
          "text": [
            " 67%|██████▋   | 8/12 [00:12<00:03,  1.27it/s]"
          ]
        },
        {
          "output_type": "stream",
          "name": "stdout",
          "text": [
            "[ERROR] Cannot load image /content/drive/MyDrive/Teaching/CS114/CS114.P21/handwritten_digit_classification/NThong325_CS114/hand_written_digit/23521523/0_5.jpeg: cannot identify image file '/content/drive/MyDrive/Teaching/CS114/CS114.P21/handwritten_digit_classification/NThong325_CS114/hand_written_digit/23521523/0_5.jpeg'\n",
            "[ERROR] Cannot load image /content/drive/MyDrive/Teaching/CS114/CS114.P21/handwritten_digit_classification/NThong325_CS114/hand_written_digit/23521523/0_6.jpeg: cannot identify image file '/content/drive/MyDrive/Teaching/CS114/CS114.P21/handwritten_digit_classification/NThong325_CS114/hand_written_digit/23521523/0_6.jpeg'\n"
          ]
        },
        {
          "output_type": "stream",
          "name": "stderr",
          "text": [
            "\r 75%|███████▌  | 9/12 [00:14<00:03,  1.11s/it]"
          ]
        },
        {
          "output_type": "stream",
          "name": "stdout",
          "text": [
            "[ERROR] Cannot load image /content/drive/MyDrive/Teaching/CS114/CS114.P21/handwritten_digit_classification/NThong325_CS114/hand_written_digit/23521523/6_1.jpeg: cannot identify image file '/content/drive/MyDrive/Teaching/CS114/CS114.P21/handwritten_digit_classification/NThong325_CS114/hand_written_digit/23521523/6_1.jpeg'\n",
            "[ERROR] Cannot load image /content/drive/MyDrive/Teaching/CS114/CS114.P21/handwritten_digit_classification/NThong325_CS114/hand_written_digit/23521523/6_4.jpeg: cannot identify image file '/content/drive/MyDrive/Teaching/CS114/CS114.P21/handwritten_digit_classification/NThong325_CS114/hand_written_digit/23521523/6_4.jpeg'\n",
            "[ERROR] Cannot load image /content/drive/MyDrive/Teaching/CS114/CS114.P21/handwritten_digit_classification/NThong325_CS114/hand_written_digit/23521523/6_9.jpeg: cannot identify image file '/content/drive/MyDrive/Teaching/CS114/CS114.P21/handwritten_digit_classification/NThong325_CS114/hand_written_digit/23521523/6_9.jpeg'\n",
            "[ERROR] Cannot load image /content/drive/MyDrive/Teaching/CS114/CS114.P21/handwritten_digit_classification/NThong325_CS114/hand_written_digit/23521523/6_5.jpeg: cannot identify image file '/content/drive/MyDrive/Teaching/CS114/CS114.P21/handwritten_digit_classification/NThong325_CS114/hand_written_digit/23521523/6_5.jpeg'\n",
            "[ERROR] Cannot load image /content/drive/MyDrive/Teaching/CS114/CS114.P21/handwritten_digit_classification/NThong325_CS114/hand_written_digit/23521523/6_6.jpeg: cannot identify image file '/content/drive/MyDrive/Teaching/CS114/CS114.P21/handwritten_digit_classification/NThong325_CS114/hand_written_digit/23521523/6_6.jpeg'\n",
            "[ERROR] Cannot load image /content/drive/MyDrive/Teaching/CS114/CS114.P21/handwritten_digit_classification/NThong325_CS114/hand_written_digit/23521523/3_6.jpeg: cannot identify image file '/content/drive/MyDrive/Teaching/CS114/CS114.P21/handwritten_digit_classification/NThong325_CS114/hand_written_digit/23521523/3_6.jpeg'\n",
            "[ERROR] Cannot load image /content/drive/MyDrive/Teaching/CS114/CS114.P21/handwritten_digit_classification/NThong325_CS114/hand_written_digit/23521523/7_8.jpeg: cannot identify image file '/content/drive/MyDrive/Teaching/CS114/CS114.P21/handwritten_digit_classification/NThong325_CS114/hand_written_digit/23521523/7_8.jpeg'\n",
            "[ERROR] Cannot load image /content/drive/MyDrive/Teaching/CS114/CS114.P21/handwritten_digit_classification/NThong325_CS114/hand_written_digit/23521523/7_10.jpeg: cannot identify image file '/content/drive/MyDrive/Teaching/CS114/CS114.P21/handwritten_digit_classification/NThong325_CS114/hand_written_digit/23521523/7_10.jpeg'\n",
            "[ERROR] Cannot load image /content/drive/MyDrive/Teaching/CS114/CS114.P21/handwritten_digit_classification/NThong325_CS114/hand_written_digit/23521523/4_9.jpeg: cannot identify image file '/content/drive/MyDrive/Teaching/CS114/CS114.P21/handwritten_digit_classification/NThong325_CS114/hand_written_digit/23521523/4_9.jpeg'\n"
          ]
        },
        {
          "output_type": "stream",
          "name": "stderr",
          "text": [
            "\r 83%|████████▎ | 10/12 [00:24<00:07,  3.90s/it]"
          ]
        },
        {
          "output_type": "stream",
          "name": "stdout",
          "text": [
            "[ERROR] Cannot load image /content/drive/MyDrive/Teaching/CS114/CS114.P21/handwritten_digit_classification/NThong325_CS114/hand_written_digit/23521523/8_1.jpeg: cannot identify image file '/content/drive/MyDrive/Teaching/CS114/CS114.P21/handwritten_digit_classification/NThong325_CS114/hand_written_digit/23521523/8_1.jpeg'\n"
          ]
        },
        {
          "output_type": "stream",
          "name": "stderr",
          "text": [
            "100%|██████████| 12/12 [00:28<00:00,  2.38s/it]\n"
          ]
        },
        {
          "output_type": "stream",
          "name": "stdout",
          "text": [
            "val Loss: 0.6050 Acc: 0.8229\n",
            "Saved new best model with acc: 0.8229\n",
            "\n",
            "Epoch 6/14\n",
            "----------\n"
          ]
        },
        {
          "output_type": "stream",
          "name": "stderr",
          "text": [
            "100%|██████████| 100/100 [03:53<00:00,  2.33s/it]\n"
          ]
        },
        {
          "output_type": "stream",
          "name": "stdout",
          "text": [
            "train Loss: 0.0781 Acc: 0.9742\n"
          ]
        },
        {
          "output_type": "stream",
          "name": "stderr",
          "text": [
            " 67%|██████▋   | 8/12 [00:12<00:03,  1.29it/s]"
          ]
        },
        {
          "output_type": "stream",
          "name": "stdout",
          "text": [
            "[ERROR] Cannot load image /content/drive/MyDrive/Teaching/CS114/CS114.P21/handwritten_digit_classification/NThong325_CS114/hand_written_digit/23521523/0_5.jpeg: cannot identify image file '/content/drive/MyDrive/Teaching/CS114/CS114.P21/handwritten_digit_classification/NThong325_CS114/hand_written_digit/23521523/0_5.jpeg'\n",
            "[ERROR] Cannot load image /content/drive/MyDrive/Teaching/CS114/CS114.P21/handwritten_digit_classification/NThong325_CS114/hand_written_digit/23521523/0_6.jpeg: cannot identify image file '/content/drive/MyDrive/Teaching/CS114/CS114.P21/handwritten_digit_classification/NThong325_CS114/hand_written_digit/23521523/0_6.jpeg'\n"
          ]
        },
        {
          "output_type": "stream",
          "name": "stderr",
          "text": [
            "\r 75%|███████▌  | 9/12 [00:14<00:03,  1.16s/it]"
          ]
        },
        {
          "output_type": "stream",
          "name": "stdout",
          "text": [
            "[ERROR] Cannot load image /content/drive/MyDrive/Teaching/CS114/CS114.P21/handwritten_digit_classification/NThong325_CS114/hand_written_digit/23521523/6_1.jpeg: cannot identify image file '/content/drive/MyDrive/Teaching/CS114/CS114.P21/handwritten_digit_classification/NThong325_CS114/hand_written_digit/23521523/6_1.jpeg'\n",
            "[ERROR] Cannot load image /content/drive/MyDrive/Teaching/CS114/CS114.P21/handwritten_digit_classification/NThong325_CS114/hand_written_digit/23521523/6_4.jpeg: cannot identify image file '/content/drive/MyDrive/Teaching/CS114/CS114.P21/handwritten_digit_classification/NThong325_CS114/hand_written_digit/23521523/6_4.jpeg'\n",
            "[ERROR] Cannot load image /content/drive/MyDrive/Teaching/CS114/CS114.P21/handwritten_digit_classification/NThong325_CS114/hand_written_digit/23521523/6_9.jpeg: cannot identify image file '/content/drive/MyDrive/Teaching/CS114/CS114.P21/handwritten_digit_classification/NThong325_CS114/hand_written_digit/23521523/6_9.jpeg'\n",
            "[ERROR] Cannot load image /content/drive/MyDrive/Teaching/CS114/CS114.P21/handwritten_digit_classification/NThong325_CS114/hand_written_digit/23521523/6_5.jpeg: cannot identify image file '/content/drive/MyDrive/Teaching/CS114/CS114.P21/handwritten_digit_classification/NThong325_CS114/hand_written_digit/23521523/6_5.jpeg'\n",
            "[ERROR] Cannot load image /content/drive/MyDrive/Teaching/CS114/CS114.P21/handwritten_digit_classification/NThong325_CS114/hand_written_digit/23521523/6_6.jpeg: cannot identify image file '/content/drive/MyDrive/Teaching/CS114/CS114.P21/handwritten_digit_classification/NThong325_CS114/hand_written_digit/23521523/6_6.jpeg'\n",
            "[ERROR] Cannot load image /content/drive/MyDrive/Teaching/CS114/CS114.P21/handwritten_digit_classification/NThong325_CS114/hand_written_digit/23521523/3_6.jpeg: cannot identify image file '/content/drive/MyDrive/Teaching/CS114/CS114.P21/handwritten_digit_classification/NThong325_CS114/hand_written_digit/23521523/3_6.jpeg'\n",
            "[ERROR] Cannot load image /content/drive/MyDrive/Teaching/CS114/CS114.P21/handwritten_digit_classification/NThong325_CS114/hand_written_digit/23521523/7_8.jpeg: cannot identify image file '/content/drive/MyDrive/Teaching/CS114/CS114.P21/handwritten_digit_classification/NThong325_CS114/hand_written_digit/23521523/7_8.jpeg'\n",
            "[ERROR] Cannot load image /content/drive/MyDrive/Teaching/CS114/CS114.P21/handwritten_digit_classification/NThong325_CS114/hand_written_digit/23521523/7_10.jpeg: cannot identify image file '/content/drive/MyDrive/Teaching/CS114/CS114.P21/handwritten_digit_classification/NThong325_CS114/hand_written_digit/23521523/7_10.jpeg'\n",
            "[ERROR] Cannot load image /content/drive/MyDrive/Teaching/CS114/CS114.P21/handwritten_digit_classification/NThong325_CS114/hand_written_digit/23521523/4_9.jpeg: cannot identify image file '/content/drive/MyDrive/Teaching/CS114/CS114.P21/handwritten_digit_classification/NThong325_CS114/hand_written_digit/23521523/4_9.jpeg'\n"
          ]
        },
        {
          "output_type": "stream",
          "name": "stderr",
          "text": [
            "\r 83%|████████▎ | 10/12 [00:24<00:07,  3.80s/it]"
          ]
        },
        {
          "output_type": "stream",
          "name": "stdout",
          "text": [
            "[ERROR] Cannot load image /content/drive/MyDrive/Teaching/CS114/CS114.P21/handwritten_digit_classification/NThong325_CS114/hand_written_digit/23521523/8_1.jpeg: cannot identify image file '/content/drive/MyDrive/Teaching/CS114/CS114.P21/handwritten_digit_classification/NThong325_CS114/hand_written_digit/23521523/8_1.jpeg'\n"
          ]
        },
        {
          "output_type": "stream",
          "name": "stderr",
          "text": [
            "100%|██████████| 12/12 [00:28<00:00,  2.38s/it]\n"
          ]
        },
        {
          "output_type": "stream",
          "name": "stdout",
          "text": [
            "val Loss: 0.6197 Acc: 0.8244\n",
            "Saved new best model with acc: 0.8244\n",
            "\n",
            "Epoch 7/14\n",
            "----------\n"
          ]
        },
        {
          "output_type": "stream",
          "name": "stderr",
          "text": [
            "100%|██████████| 100/100 [03:54<00:00,  2.35s/it]\n"
          ]
        },
        {
          "output_type": "stream",
          "name": "stdout",
          "text": [
            "train Loss: 0.0653 Acc: 0.9806\n"
          ]
        },
        {
          "output_type": "stream",
          "name": "stderr",
          "text": [
            " 67%|██████▋   | 8/12 [00:12<00:03,  1.27it/s]"
          ]
        },
        {
          "output_type": "stream",
          "name": "stdout",
          "text": [
            "[ERROR] Cannot load image /content/drive/MyDrive/Teaching/CS114/CS114.P21/handwritten_digit_classification/NThong325_CS114/hand_written_digit/23521523/0_5.jpeg: cannot identify image file '/content/drive/MyDrive/Teaching/CS114/CS114.P21/handwritten_digit_classification/NThong325_CS114/hand_written_digit/23521523/0_5.jpeg'\n",
            "[ERROR] Cannot load image /content/drive/MyDrive/Teaching/CS114/CS114.P21/handwritten_digit_classification/NThong325_CS114/hand_written_digit/23521523/0_6.jpeg: cannot identify image file '/content/drive/MyDrive/Teaching/CS114/CS114.P21/handwritten_digit_classification/NThong325_CS114/hand_written_digit/23521523/0_6.jpeg'\n"
          ]
        },
        {
          "output_type": "stream",
          "name": "stderr",
          "text": [
            "\r 75%|███████▌  | 9/12 [00:14<00:03,  1.21s/it]"
          ]
        },
        {
          "output_type": "stream",
          "name": "stdout",
          "text": [
            "[ERROR] Cannot load image /content/drive/MyDrive/Teaching/CS114/CS114.P21/handwritten_digit_classification/NThong325_CS114/hand_written_digit/23521523/6_1.jpeg: cannot identify image file '/content/drive/MyDrive/Teaching/CS114/CS114.P21/handwritten_digit_classification/NThong325_CS114/hand_written_digit/23521523/6_1.jpeg'\n",
            "[ERROR] Cannot load image /content/drive/MyDrive/Teaching/CS114/CS114.P21/handwritten_digit_classification/NThong325_CS114/hand_written_digit/23521523/6_4.jpeg: cannot identify image file '/content/drive/MyDrive/Teaching/CS114/CS114.P21/handwritten_digit_classification/NThong325_CS114/hand_written_digit/23521523/6_4.jpeg'\n",
            "[ERROR] Cannot load image /content/drive/MyDrive/Teaching/CS114/CS114.P21/handwritten_digit_classification/NThong325_CS114/hand_written_digit/23521523/6_9.jpeg: cannot identify image file '/content/drive/MyDrive/Teaching/CS114/CS114.P21/handwritten_digit_classification/NThong325_CS114/hand_written_digit/23521523/6_9.jpeg'\n",
            "[ERROR] Cannot load image /content/drive/MyDrive/Teaching/CS114/CS114.P21/handwritten_digit_classification/NThong325_CS114/hand_written_digit/23521523/6_5.jpeg: cannot identify image file '/content/drive/MyDrive/Teaching/CS114/CS114.P21/handwritten_digit_classification/NThong325_CS114/hand_written_digit/23521523/6_5.jpeg'\n",
            "[ERROR] Cannot load image /content/drive/MyDrive/Teaching/CS114/CS114.P21/handwritten_digit_classification/NThong325_CS114/hand_written_digit/23521523/3_6.jpeg: cannot identify image file '/content/drive/MyDrive/Teaching/CS114/CS114.P21/handwritten_digit_classification/NThong325_CS114/hand_written_digit/23521523/3_6.jpeg'\n",
            "[ERROR] Cannot load image /content/drive/MyDrive/Teaching/CS114/CS114.P21/handwritten_digit_classification/NThong325_CS114/hand_written_digit/23521523/6_6.jpeg: cannot identify image file '/content/drive/MyDrive/Teaching/CS114/CS114.P21/handwritten_digit_classification/NThong325_CS114/hand_written_digit/23521523/6_6.jpeg'\n",
            "[ERROR] Cannot load image /content/drive/MyDrive/Teaching/CS114/CS114.P21/handwritten_digit_classification/NThong325_CS114/hand_written_digit/23521523/4_9.jpeg: cannot identify image file '/content/drive/MyDrive/Teaching/CS114/CS114.P21/handwritten_digit_classification/NThong325_CS114/hand_written_digit/23521523/4_9.jpeg'\n",
            "[ERROR] Cannot load image /content/drive/MyDrive/Teaching/CS114/CS114.P21/handwritten_digit_classification/NThong325_CS114/hand_written_digit/23521523/7_8.jpeg: cannot identify image file '/content/drive/MyDrive/Teaching/CS114/CS114.P21/handwritten_digit_classification/NThong325_CS114/hand_written_digit/23521523/7_8.jpeg'\n",
            "[ERROR] Cannot load image /content/drive/MyDrive/Teaching/CS114/CS114.P21/handwritten_digit_classification/NThong325_CS114/hand_written_digit/23521523/7_10.jpeg: cannot identify image file '/content/drive/MyDrive/Teaching/CS114/CS114.P21/handwritten_digit_classification/NThong325_CS114/hand_written_digit/23521523/7_10.jpeg'\n"
          ]
        },
        {
          "output_type": "stream",
          "name": "stderr",
          "text": [
            "\r 83%|████████▎ | 10/12 [00:24<00:07,  3.74s/it]"
          ]
        },
        {
          "output_type": "stream",
          "name": "stdout",
          "text": [
            "[ERROR] Cannot load image /content/drive/MyDrive/Teaching/CS114/CS114.P21/handwritten_digit_classification/NThong325_CS114/hand_written_digit/23521523/8_1.jpeg: cannot identify image file '/content/drive/MyDrive/Teaching/CS114/CS114.P21/handwritten_digit_classification/NThong325_CS114/hand_written_digit/23521523/8_1.jpeg'\n"
          ]
        },
        {
          "output_type": "stream",
          "name": "stderr",
          "text": [
            "100%|██████████| 12/12 [00:28<00:00,  2.40s/it]\n"
          ]
        },
        {
          "output_type": "stream",
          "name": "stdout",
          "text": [
            "val Loss: 0.6030 Acc: 0.8272\n",
            "Saved new best model with acc: 0.8272\n",
            "\n",
            "Epoch 8/14\n",
            "----------\n"
          ]
        },
        {
          "output_type": "stream",
          "name": "stderr",
          "text": [
            "100%|██████████| 100/100 [03:54<00:00,  2.35s/it]\n"
          ]
        },
        {
          "output_type": "stream",
          "name": "stdout",
          "text": [
            "train Loss: 0.0597 Acc: 0.9811\n"
          ]
        },
        {
          "output_type": "stream",
          "name": "stderr",
          "text": [
            " 67%|██████▋   | 8/12 [00:12<00:03,  1.25it/s]"
          ]
        },
        {
          "output_type": "stream",
          "name": "stdout",
          "text": [
            "[ERROR] Cannot load image /content/drive/MyDrive/Teaching/CS114/CS114.P21/handwritten_digit_classification/NThong325_CS114/hand_written_digit/23521523/0_5.jpeg: cannot identify image file '/content/drive/MyDrive/Teaching/CS114/CS114.P21/handwritten_digit_classification/NThong325_CS114/hand_written_digit/23521523/0_5.jpeg'\n",
            "[ERROR] Cannot load image /content/drive/MyDrive/Teaching/CS114/CS114.P21/handwritten_digit_classification/NThong325_CS114/hand_written_digit/23521523/0_6.jpeg: cannot identify image file '/content/drive/MyDrive/Teaching/CS114/CS114.P21/handwritten_digit_classification/NThong325_CS114/hand_written_digit/23521523/0_6.jpeg'\n"
          ]
        },
        {
          "output_type": "stream",
          "name": "stderr",
          "text": [
            "\r 75%|███████▌  | 9/12 [00:14<00:03,  1.17s/it]"
          ]
        },
        {
          "output_type": "stream",
          "name": "stdout",
          "text": [
            "[ERROR] Cannot load image /content/drive/MyDrive/Teaching/CS114/CS114.P21/handwritten_digit_classification/NThong325_CS114/hand_written_digit/23521523/6_1.jpeg: cannot identify image file '/content/drive/MyDrive/Teaching/CS114/CS114.P21/handwritten_digit_classification/NThong325_CS114/hand_written_digit/23521523/6_1.jpeg'\n",
            "[ERROR] Cannot load image /content/drive/MyDrive/Teaching/CS114/CS114.P21/handwritten_digit_classification/NThong325_CS114/hand_written_digit/23521523/6_4.jpeg: cannot identify image file '/content/drive/MyDrive/Teaching/CS114/CS114.P21/handwritten_digit_classification/NThong325_CS114/hand_written_digit/23521523/6_4.jpeg'\n",
            "[ERROR] Cannot load image /content/drive/MyDrive/Teaching/CS114/CS114.P21/handwritten_digit_classification/NThong325_CS114/hand_written_digit/23521523/6_9.jpeg: cannot identify image file '/content/drive/MyDrive/Teaching/CS114/CS114.P21/handwritten_digit_classification/NThong325_CS114/hand_written_digit/23521523/6_9.jpeg'\n",
            "[ERROR] Cannot load image /content/drive/MyDrive/Teaching/CS114/CS114.P21/handwritten_digit_classification/NThong325_CS114/hand_written_digit/23521523/6_5.jpeg: cannot identify image file '/content/drive/MyDrive/Teaching/CS114/CS114.P21/handwritten_digit_classification/NThong325_CS114/hand_written_digit/23521523/6_5.jpeg'\n",
            "[ERROR] Cannot load image /content/drive/MyDrive/Teaching/CS114/CS114.P21/handwritten_digit_classification/NThong325_CS114/hand_written_digit/23521523/6_6.jpeg: cannot identify image file '/content/drive/MyDrive/Teaching/CS114/CS114.P21/handwritten_digit_classification/NThong325_CS114/hand_written_digit/23521523/6_6.jpeg'\n",
            "[ERROR] Cannot load image /content/drive/MyDrive/Teaching/CS114/CS114.P21/handwritten_digit_classification/NThong325_CS114/hand_written_digit/23521523/3_6.jpeg: cannot identify image file '/content/drive/MyDrive/Teaching/CS114/CS114.P21/handwritten_digit_classification/NThong325_CS114/hand_written_digit/23521523/3_6.jpeg'\n",
            "[ERROR] Cannot load image /content/drive/MyDrive/Teaching/CS114/CS114.P21/handwritten_digit_classification/NThong325_CS114/hand_written_digit/23521523/4_9.jpeg: cannot identify image file '/content/drive/MyDrive/Teaching/CS114/CS114.P21/handwritten_digit_classification/NThong325_CS114/hand_written_digit/23521523/4_9.jpeg'\n",
            "[ERROR] Cannot load image /content/drive/MyDrive/Teaching/CS114/CS114.P21/handwritten_digit_classification/NThong325_CS114/hand_written_digit/23521523/7_8.jpeg: cannot identify image file '/content/drive/MyDrive/Teaching/CS114/CS114.P21/handwritten_digit_classification/NThong325_CS114/hand_written_digit/23521523/7_8.jpeg'\n",
            "[ERROR] Cannot load image /content/drive/MyDrive/Teaching/CS114/CS114.P21/handwritten_digit_classification/NThong325_CS114/hand_written_digit/23521523/7_10.jpeg: cannot identify image file '/content/drive/MyDrive/Teaching/CS114/CS114.P21/handwritten_digit_classification/NThong325_CS114/hand_written_digit/23521523/7_10.jpeg'\n"
          ]
        },
        {
          "output_type": "stream",
          "name": "stderr",
          "text": [
            "\r 83%|████████▎ | 10/12 [00:24<00:07,  3.90s/it]"
          ]
        },
        {
          "output_type": "stream",
          "name": "stdout",
          "text": [
            "[ERROR] Cannot load image /content/drive/MyDrive/Teaching/CS114/CS114.P21/handwritten_digit_classification/NThong325_CS114/hand_written_digit/23521523/8_1.jpeg: cannot identify image file '/content/drive/MyDrive/Teaching/CS114/CS114.P21/handwritten_digit_classification/NThong325_CS114/hand_written_digit/23521523/8_1.jpeg'\n"
          ]
        },
        {
          "output_type": "stream",
          "name": "stderr",
          "text": [
            "100%|██████████| 12/12 [00:29<00:00,  2.43s/it]\n"
          ]
        },
        {
          "output_type": "stream",
          "name": "stdout",
          "text": [
            "val Loss: 0.5904 Acc: 0.8300\n",
            "Saved new best model with acc: 0.8300\n",
            "\n",
            "Epoch 9/14\n",
            "----------\n"
          ]
        },
        {
          "output_type": "stream",
          "name": "stderr",
          "text": [
            "100%|██████████| 100/100 [03:56<00:00,  2.36s/it]\n"
          ]
        },
        {
          "output_type": "stream",
          "name": "stdout",
          "text": [
            "train Loss: 0.0569 Acc: 0.9817\n"
          ]
        },
        {
          "output_type": "stream",
          "name": "stderr",
          "text": [
            " 67%|██████▋   | 8/12 [00:12<00:03,  1.27it/s]"
          ]
        },
        {
          "output_type": "stream",
          "name": "stdout",
          "text": [
            "[ERROR] Cannot load image /content/drive/MyDrive/Teaching/CS114/CS114.P21/handwritten_digit_classification/NThong325_CS114/hand_written_digit/23521523/0_5.jpeg: cannot identify image file '/content/drive/MyDrive/Teaching/CS114/CS114.P21/handwritten_digit_classification/NThong325_CS114/hand_written_digit/23521523/0_5.jpeg'\n",
            "[ERROR] Cannot load image /content/drive/MyDrive/Teaching/CS114/CS114.P21/handwritten_digit_classification/NThong325_CS114/hand_written_digit/23521523/0_6.jpeg: cannot identify image file '/content/drive/MyDrive/Teaching/CS114/CS114.P21/handwritten_digit_classification/NThong325_CS114/hand_written_digit/23521523/0_6.jpeg'\n"
          ]
        },
        {
          "output_type": "stream",
          "name": "stderr",
          "text": [
            "\r 75%|███████▌  | 9/12 [00:14<00:03,  1.16s/it]"
          ]
        },
        {
          "output_type": "stream",
          "name": "stdout",
          "text": [
            "[ERROR] Cannot load image /content/drive/MyDrive/Teaching/CS114/CS114.P21/handwritten_digit_classification/NThong325_CS114/hand_written_digit/23521523/6_1.jpeg: cannot identify image file '/content/drive/MyDrive/Teaching/CS114/CS114.P21/handwritten_digit_classification/NThong325_CS114/hand_written_digit/23521523/6_1.jpeg'\n",
            "[ERROR] Cannot load image /content/drive/MyDrive/Teaching/CS114/CS114.P21/handwritten_digit_classification/NThong325_CS114/hand_written_digit/23521523/6_4.jpeg: cannot identify image file '/content/drive/MyDrive/Teaching/CS114/CS114.P21/handwritten_digit_classification/NThong325_CS114/hand_written_digit/23521523/6_4.jpeg'\n",
            "[ERROR] Cannot load image /content/drive/MyDrive/Teaching/CS114/CS114.P21/handwritten_digit_classification/NThong325_CS114/hand_written_digit/23521523/6_9.jpeg: cannot identify image file '/content/drive/MyDrive/Teaching/CS114/CS114.P21/handwritten_digit_classification/NThong325_CS114/hand_written_digit/23521523/6_9.jpeg'\n",
            "[ERROR] Cannot load image /content/drive/MyDrive/Teaching/CS114/CS114.P21/handwritten_digit_classification/NThong325_CS114/hand_written_digit/23521523/6_5.jpeg: cannot identify image file '/content/drive/MyDrive/Teaching/CS114/CS114.P21/handwritten_digit_classification/NThong325_CS114/hand_written_digit/23521523/6_5.jpeg'\n",
            "[ERROR] Cannot load image /content/drive/MyDrive/Teaching/CS114/CS114.P21/handwritten_digit_classification/NThong325_CS114/hand_written_digit/23521523/6_6.jpeg: cannot identify image file '/content/drive/MyDrive/Teaching/CS114/CS114.P21/handwritten_digit_classification/NThong325_CS114/hand_written_digit/23521523/6_6.jpeg'\n",
            "[ERROR] Cannot load image /content/drive/MyDrive/Teaching/CS114/CS114.P21/handwritten_digit_classification/NThong325_CS114/hand_written_digit/23521523/3_6.jpeg: cannot identify image file '/content/drive/MyDrive/Teaching/CS114/CS114.P21/handwritten_digit_classification/NThong325_CS114/hand_written_digit/23521523/3_6.jpeg'\n",
            "[ERROR] Cannot load image /content/drive/MyDrive/Teaching/CS114/CS114.P21/handwritten_digit_classification/NThong325_CS114/hand_written_digit/23521523/7_8.jpeg: cannot identify image file '/content/drive/MyDrive/Teaching/CS114/CS114.P21/handwritten_digit_classification/NThong325_CS114/hand_written_digit/23521523/7_8.jpeg'\n",
            "[ERROR] Cannot load image /content/drive/MyDrive/Teaching/CS114/CS114.P21/handwritten_digit_classification/NThong325_CS114/hand_written_digit/23521523/7_10.jpeg: cannot identify image file '/content/drive/MyDrive/Teaching/CS114/CS114.P21/handwritten_digit_classification/NThong325_CS114/hand_written_digit/23521523/7_10.jpeg'\n",
            "[ERROR] Cannot load image /content/drive/MyDrive/Teaching/CS114/CS114.P21/handwritten_digit_classification/NThong325_CS114/hand_written_digit/23521523/4_9.jpeg: cannot identify image file '/content/drive/MyDrive/Teaching/CS114/CS114.P21/handwritten_digit_classification/NThong325_CS114/hand_written_digit/23521523/4_9.jpeg'\n"
          ]
        },
        {
          "output_type": "stream",
          "name": "stderr",
          "text": [
            "\r 83%|████████▎ | 10/12 [00:24<00:07,  3.94s/it]"
          ]
        },
        {
          "output_type": "stream",
          "name": "stdout",
          "text": [
            "[ERROR] Cannot load image /content/drive/MyDrive/Teaching/CS114/CS114.P21/handwritten_digit_classification/NThong325_CS114/hand_written_digit/23521523/8_1.jpeg: cannot identify image file '/content/drive/MyDrive/Teaching/CS114/CS114.P21/handwritten_digit_classification/NThong325_CS114/hand_written_digit/23521523/8_1.jpeg'\n"
          ]
        },
        {
          "output_type": "stream",
          "name": "stderr",
          "text": [
            "100%|██████████| 12/12 [00:28<00:00,  2.40s/it]\n"
          ]
        },
        {
          "output_type": "stream",
          "name": "stdout",
          "text": [
            "val Loss: 0.5719 Acc: 0.8329\n",
            "Saved new best model with acc: 0.8329\n",
            "\n",
            "Epoch 10/14\n",
            "----------\n"
          ]
        },
        {
          "output_type": "stream",
          "name": "stderr",
          "text": [
            "100%|██████████| 100/100 [03:56<00:00,  2.36s/it]\n"
          ]
        },
        {
          "output_type": "stream",
          "name": "stdout",
          "text": [
            "train Loss: 0.0571 Acc: 0.9821\n"
          ]
        },
        {
          "output_type": "stream",
          "name": "stderr",
          "text": [
            " 67%|██████▋   | 8/12 [00:12<00:03,  1.26it/s]"
          ]
        },
        {
          "output_type": "stream",
          "name": "stdout",
          "text": [
            "[ERROR] Cannot load image /content/drive/MyDrive/Teaching/CS114/CS114.P21/handwritten_digit_classification/NThong325_CS114/hand_written_digit/23521523/0_5.jpeg: cannot identify image file '/content/drive/MyDrive/Teaching/CS114/CS114.P21/handwritten_digit_classification/NThong325_CS114/hand_written_digit/23521523/0_5.jpeg'\n",
            "[ERROR] Cannot load image /content/drive/MyDrive/Teaching/CS114/CS114.P21/handwritten_digit_classification/NThong325_CS114/hand_written_digit/23521523/0_6.jpeg: cannot identify image file '/content/drive/MyDrive/Teaching/CS114/CS114.P21/handwritten_digit_classification/NThong325_CS114/hand_written_digit/23521523/0_6.jpeg'\n"
          ]
        },
        {
          "output_type": "stream",
          "name": "stderr",
          "text": [
            "\r 75%|███████▌  | 9/12 [00:15<00:04,  1.54s/it]"
          ]
        },
        {
          "output_type": "stream",
          "name": "stdout",
          "text": [
            "[ERROR] Cannot load image /content/drive/MyDrive/Teaching/CS114/CS114.P21/handwritten_digit_classification/NThong325_CS114/hand_written_digit/23521523/6_1.jpeg: cannot identify image file '/content/drive/MyDrive/Teaching/CS114/CS114.P21/handwritten_digit_classification/NThong325_CS114/hand_written_digit/23521523/6_1.jpeg'\n",
            "[ERROR] Cannot load image /content/drive/MyDrive/Teaching/CS114/CS114.P21/handwritten_digit_classification/NThong325_CS114/hand_written_digit/23521523/6_4.jpeg: cannot identify image file '/content/drive/MyDrive/Teaching/CS114/CS114.P21/handwritten_digit_classification/NThong325_CS114/hand_written_digit/23521523/6_4.jpeg'\n",
            "[ERROR] Cannot load image /content/drive/MyDrive/Teaching/CS114/CS114.P21/handwritten_digit_classification/NThong325_CS114/hand_written_digit/23521523/6_9.jpeg: cannot identify image file '/content/drive/MyDrive/Teaching/CS114/CS114.P21/handwritten_digit_classification/NThong325_CS114/hand_written_digit/23521523/6_9.jpeg'\n",
            "[ERROR] Cannot load image /content/drive/MyDrive/Teaching/CS114/CS114.P21/handwritten_digit_classification/NThong325_CS114/hand_written_digit/23521523/6_5.jpeg: cannot identify image file '/content/drive/MyDrive/Teaching/CS114/CS114.P21/handwritten_digit_classification/NThong325_CS114/hand_written_digit/23521523/6_5.jpeg'\n",
            "[ERROR] Cannot load image /content/drive/MyDrive/Teaching/CS114/CS114.P21/handwritten_digit_classification/NThong325_CS114/hand_written_digit/23521523/6_6.jpeg: cannot identify image file '/content/drive/MyDrive/Teaching/CS114/CS114.P21/handwritten_digit_classification/NThong325_CS114/hand_written_digit/23521523/6_6.jpeg'\n",
            "[ERROR] Cannot load image /content/drive/MyDrive/Teaching/CS114/CS114.P21/handwritten_digit_classification/NThong325_CS114/hand_written_digit/23521523/7_8.jpeg: cannot identify image file '/content/drive/MyDrive/Teaching/CS114/CS114.P21/handwritten_digit_classification/NThong325_CS114/hand_written_digit/23521523/7_8.jpeg'\n",
            "[ERROR] Cannot load image /content/drive/MyDrive/Teaching/CS114/CS114.P21/handwritten_digit_classification/NThong325_CS114/hand_written_digit/23521523/7_10.jpeg: cannot identify image file '/content/drive/MyDrive/Teaching/CS114/CS114.P21/handwritten_digit_classification/NThong325_CS114/hand_written_digit/23521523/7_10.jpeg'\n",
            "[ERROR] Cannot load image /content/drive/MyDrive/Teaching/CS114/CS114.P21/handwritten_digit_classification/NThong325_CS114/hand_written_digit/23521523/3_6.jpeg: cannot identify image file '/content/drive/MyDrive/Teaching/CS114/CS114.P21/handwritten_digit_classification/NThong325_CS114/hand_written_digit/23521523/3_6.jpeg'\n",
            "[ERROR] Cannot load image /content/drive/MyDrive/Teaching/CS114/CS114.P21/handwritten_digit_classification/NThong325_CS114/hand_written_digit/23521523/4_9.jpeg: cannot identify image file '/content/drive/MyDrive/Teaching/CS114/CS114.P21/handwritten_digit_classification/NThong325_CS114/hand_written_digit/23521523/4_9.jpeg'\n"
          ]
        },
        {
          "output_type": "stream",
          "name": "stderr",
          "text": [
            "\r 83%|████████▎ | 10/12 [00:24<00:07,  3.86s/it]"
          ]
        },
        {
          "output_type": "stream",
          "name": "stdout",
          "text": [
            "[ERROR] Cannot load image /content/drive/MyDrive/Teaching/CS114/CS114.P21/handwritten_digit_classification/NThong325_CS114/hand_written_digit/23521523/8_1.jpeg: cannot identify image file '/content/drive/MyDrive/Teaching/CS114/CS114.P21/handwritten_digit_classification/NThong325_CS114/hand_written_digit/23521523/8_1.jpeg'\n"
          ]
        },
        {
          "output_type": "stream",
          "name": "stderr",
          "text": [
            "100%|██████████| 12/12 [00:28<00:00,  2.39s/it]\n"
          ]
        },
        {
          "output_type": "stream",
          "name": "stdout",
          "text": [
            "val Loss: 0.6056 Acc: 0.8286\n",
            "No improvement for 1 epoch(s).\n",
            "\n",
            "Epoch 11/14\n",
            "----------\n"
          ]
        },
        {
          "output_type": "stream",
          "name": "stderr",
          "text": [
            "100%|██████████| 100/100 [03:56<00:00,  2.36s/it]\n"
          ]
        },
        {
          "output_type": "stream",
          "name": "stdout",
          "text": [
            "train Loss: 0.0574 Acc: 0.9830\n"
          ]
        },
        {
          "output_type": "stream",
          "name": "stderr",
          "text": [
            " 67%|██████▋   | 8/12 [00:12<00:03,  1.02it/s]"
          ]
        },
        {
          "output_type": "stream",
          "name": "stdout",
          "text": [
            "[ERROR] Cannot load image /content/drive/MyDrive/Teaching/CS114/CS114.P21/handwritten_digit_classification/NThong325_CS114/hand_written_digit/23521523/0_5.jpeg: cannot identify image file '/content/drive/MyDrive/Teaching/CS114/CS114.P21/handwritten_digit_classification/NThong325_CS114/hand_written_digit/23521523/0_5.jpeg'\n",
            "[ERROR] Cannot load image /content/drive/MyDrive/Teaching/CS114/CS114.P21/handwritten_digit_classification/NThong325_CS114/hand_written_digit/23521523/0_6.jpeg: cannot identify image file '/content/drive/MyDrive/Teaching/CS114/CS114.P21/handwritten_digit_classification/NThong325_CS114/hand_written_digit/23521523/0_6.jpeg'\n"
          ]
        },
        {
          "output_type": "stream",
          "name": "stderr",
          "text": [
            "\r 75%|███████▌  | 9/12 [00:14<00:04,  1.40s/it]"
          ]
        },
        {
          "output_type": "stream",
          "name": "stdout",
          "text": [
            "[ERROR] Cannot load image /content/drive/MyDrive/Teaching/CS114/CS114.P21/handwritten_digit_classification/NThong325_CS114/hand_written_digit/23521523/6_1.jpeg: cannot identify image file '/content/drive/MyDrive/Teaching/CS114/CS114.P21/handwritten_digit_classification/NThong325_CS114/hand_written_digit/23521523/6_1.jpeg'\n",
            "[ERROR] Cannot load image /content/drive/MyDrive/Teaching/CS114/CS114.P21/handwritten_digit_classification/NThong325_CS114/hand_written_digit/23521523/6_4.jpeg: cannot identify image file '/content/drive/MyDrive/Teaching/CS114/CS114.P21/handwritten_digit_classification/NThong325_CS114/hand_written_digit/23521523/6_4.jpeg'\n",
            "[ERROR] Cannot load image /content/drive/MyDrive/Teaching/CS114/CS114.P21/handwritten_digit_classification/NThong325_CS114/hand_written_digit/23521523/6_9.jpeg: cannot identify image file '/content/drive/MyDrive/Teaching/CS114/CS114.P21/handwritten_digit_classification/NThong325_CS114/hand_written_digit/23521523/6_9.jpeg'\n",
            "[ERROR] Cannot load image /content/drive/MyDrive/Teaching/CS114/CS114.P21/handwritten_digit_classification/NThong325_CS114/hand_written_digit/23521523/6_5.jpeg: cannot identify image file '/content/drive/MyDrive/Teaching/CS114/CS114.P21/handwritten_digit_classification/NThong325_CS114/hand_written_digit/23521523/6_5.jpeg'\n",
            "[ERROR] Cannot load image /content/drive/MyDrive/Teaching/CS114/CS114.P21/handwritten_digit_classification/NThong325_CS114/hand_written_digit/23521523/6_6.jpeg: cannot identify image file '/content/drive/MyDrive/Teaching/CS114/CS114.P21/handwritten_digit_classification/NThong325_CS114/hand_written_digit/23521523/6_6.jpeg'\n",
            "[ERROR] Cannot load image /content/drive/MyDrive/Teaching/CS114/CS114.P21/handwritten_digit_classification/NThong325_CS114/hand_written_digit/23521523/7_8.jpeg: cannot identify image file '/content/drive/MyDrive/Teaching/CS114/CS114.P21/handwritten_digit_classification/NThong325_CS114/hand_written_digit/23521523/7_8.jpeg'\n",
            "[ERROR] Cannot load image /content/drive/MyDrive/Teaching/CS114/CS114.P21/handwritten_digit_classification/NThong325_CS114/hand_written_digit/23521523/7_10.jpeg: cannot identify image file '/content/drive/MyDrive/Teaching/CS114/CS114.P21/handwritten_digit_classification/NThong325_CS114/hand_written_digit/23521523/7_10.jpeg'\n",
            "[ERROR] Cannot load image /content/drive/MyDrive/Teaching/CS114/CS114.P21/handwritten_digit_classification/NThong325_CS114/hand_written_digit/23521523/3_6.jpeg: cannot identify image file '/content/drive/MyDrive/Teaching/CS114/CS114.P21/handwritten_digit_classification/NThong325_CS114/hand_written_digit/23521523/3_6.jpeg'\n",
            "[ERROR] Cannot load image /content/drive/MyDrive/Teaching/CS114/CS114.P21/handwritten_digit_classification/NThong325_CS114/hand_written_digit/23521523/4_9.jpeg: cannot identify image file '/content/drive/MyDrive/Teaching/CS114/CS114.P21/handwritten_digit_classification/NThong325_CS114/hand_written_digit/23521523/4_9.jpeg'\n"
          ]
        },
        {
          "output_type": "stream",
          "name": "stderr",
          "text": [
            "\r 83%|████████▎ | 10/12 [00:23<00:07,  3.72s/it]"
          ]
        },
        {
          "output_type": "stream",
          "name": "stdout",
          "text": [
            "[ERROR] Cannot load image /content/drive/MyDrive/Teaching/CS114/CS114.P21/handwritten_digit_classification/NThong325_CS114/hand_written_digit/23521523/8_1.jpeg: cannot identify image file '/content/drive/MyDrive/Teaching/CS114/CS114.P21/handwritten_digit_classification/NThong325_CS114/hand_written_digit/23521523/8_1.jpeg'\n"
          ]
        },
        {
          "output_type": "stream",
          "name": "stderr",
          "text": [
            "100%|██████████| 12/12 [00:28<00:00,  2.35s/it]\n"
          ]
        },
        {
          "output_type": "stream",
          "name": "stdout",
          "text": [
            "val Loss: 0.6055 Acc: 0.8371\n",
            "Saved new best model with acc: 0.8371\n",
            "\n",
            "Epoch 12/14\n",
            "----------\n"
          ]
        },
        {
          "output_type": "stream",
          "name": "stderr",
          "text": [
            "100%|██████████| 100/100 [04:00<00:00,  2.40s/it]\n"
          ]
        },
        {
          "output_type": "stream",
          "name": "stdout",
          "text": [
            "train Loss: 0.0557 Acc: 0.9817\n"
          ]
        },
        {
          "output_type": "stream",
          "name": "stderr",
          "text": [
            " 67%|██████▋   | 8/12 [00:12<00:03,  1.26it/s]"
          ]
        },
        {
          "output_type": "stream",
          "name": "stdout",
          "text": [
            "[ERROR] Cannot load image /content/drive/MyDrive/Teaching/CS114/CS114.P21/handwritten_digit_classification/NThong325_CS114/hand_written_digit/23521523/0_5.jpeg: cannot identify image file '/content/drive/MyDrive/Teaching/CS114/CS114.P21/handwritten_digit_classification/NThong325_CS114/hand_written_digit/23521523/0_5.jpeg'\n",
            "[ERROR] Cannot load image /content/drive/MyDrive/Teaching/CS114/CS114.P21/handwritten_digit_classification/NThong325_CS114/hand_written_digit/23521523/0_6.jpeg: cannot identify image file '/content/drive/MyDrive/Teaching/CS114/CS114.P21/handwritten_digit_classification/NThong325_CS114/hand_written_digit/23521523/0_6.jpeg'\n"
          ]
        },
        {
          "output_type": "stream",
          "name": "stderr",
          "text": [
            "\r 75%|███████▌  | 9/12 [00:14<00:03,  1.20s/it]"
          ]
        },
        {
          "output_type": "stream",
          "name": "stdout",
          "text": [
            "[ERROR] Cannot load image /content/drive/MyDrive/Teaching/CS114/CS114.P21/handwritten_digit_classification/NThong325_CS114/hand_written_digit/23521523/6_1.jpeg: cannot identify image file '/content/drive/MyDrive/Teaching/CS114/CS114.P21/handwritten_digit_classification/NThong325_CS114/hand_written_digit/23521523/6_1.jpeg'\n",
            "[ERROR] Cannot load image /content/drive/MyDrive/Teaching/CS114/CS114.P21/handwritten_digit_classification/NThong325_CS114/hand_written_digit/23521523/6_4.jpeg: cannot identify image file '/content/drive/MyDrive/Teaching/CS114/CS114.P21/handwritten_digit_classification/NThong325_CS114/hand_written_digit/23521523/6_4.jpeg'\n",
            "[ERROR] Cannot load image /content/drive/MyDrive/Teaching/CS114/CS114.P21/handwritten_digit_classification/NThong325_CS114/hand_written_digit/23521523/6_9.jpeg: cannot identify image file '/content/drive/MyDrive/Teaching/CS114/CS114.P21/handwritten_digit_classification/NThong325_CS114/hand_written_digit/23521523/6_9.jpeg'\n",
            "[ERROR] Cannot load image /content/drive/MyDrive/Teaching/CS114/CS114.P21/handwritten_digit_classification/NThong325_CS114/hand_written_digit/23521523/6_5.jpeg: cannot identify image file '/content/drive/MyDrive/Teaching/CS114/CS114.P21/handwritten_digit_classification/NThong325_CS114/hand_written_digit/23521523/6_5.jpeg'\n",
            "[ERROR] Cannot load image /content/drive/MyDrive/Teaching/CS114/CS114.P21/handwritten_digit_classification/NThong325_CS114/hand_written_digit/23521523/6_6.jpeg: cannot identify image file '/content/drive/MyDrive/Teaching/CS114/CS114.P21/handwritten_digit_classification/NThong325_CS114/hand_written_digit/23521523/6_6.jpeg'\n",
            "[ERROR] Cannot load image /content/drive/MyDrive/Teaching/CS114/CS114.P21/handwritten_digit_classification/NThong325_CS114/hand_written_digit/23521523/3_6.jpeg: cannot identify image file '/content/drive/MyDrive/Teaching/CS114/CS114.P21/handwritten_digit_classification/NThong325_CS114/hand_written_digit/23521523/3_6.jpeg'\n",
            "[ERROR] Cannot load image /content/drive/MyDrive/Teaching/CS114/CS114.P21/handwritten_digit_classification/NThong325_CS114/hand_written_digit/23521523/4_9.jpeg: cannot identify image file '/content/drive/MyDrive/Teaching/CS114/CS114.P21/handwritten_digit_classification/NThong325_CS114/hand_written_digit/23521523/4_9.jpeg'\n",
            "[ERROR] Cannot load image /content/drive/MyDrive/Teaching/CS114/CS114.P21/handwritten_digit_classification/NThong325_CS114/hand_written_digit/23521523/7_8.jpeg: cannot identify image file '/content/drive/MyDrive/Teaching/CS114/CS114.P21/handwritten_digit_classification/NThong325_CS114/hand_written_digit/23521523/7_8.jpeg'\n",
            "[ERROR] Cannot load image /content/drive/MyDrive/Teaching/CS114/CS114.P21/handwritten_digit_classification/NThong325_CS114/hand_written_digit/23521523/7_10.jpeg: cannot identify image file '/content/drive/MyDrive/Teaching/CS114/CS114.P21/handwritten_digit_classification/NThong325_CS114/hand_written_digit/23521523/7_10.jpeg'\n"
          ]
        },
        {
          "output_type": "stream",
          "name": "stderr",
          "text": [
            "\r 83%|████████▎ | 10/12 [00:24<00:07,  3.84s/it]"
          ]
        },
        {
          "output_type": "stream",
          "name": "stdout",
          "text": [
            "[ERROR] Cannot load image /content/drive/MyDrive/Teaching/CS114/CS114.P21/handwritten_digit_classification/NThong325_CS114/hand_written_digit/23521523/8_1.jpeg: cannot identify image file '/content/drive/MyDrive/Teaching/CS114/CS114.P21/handwritten_digit_classification/NThong325_CS114/hand_written_digit/23521523/8_1.jpeg'\n"
          ]
        },
        {
          "output_type": "stream",
          "name": "stderr",
          "text": [
            "100%|██████████| 12/12 [00:28<00:00,  2.39s/it]\n"
          ]
        },
        {
          "output_type": "stream",
          "name": "stdout",
          "text": [
            "val Loss: 0.5846 Acc: 0.8357\n",
            "No improvement for 1 epoch(s).\n",
            "\n",
            "Epoch 13/14\n",
            "----------\n"
          ]
        },
        {
          "output_type": "stream",
          "name": "stderr",
          "text": [
            "100%|██████████| 100/100 [04:02<00:00,  2.43s/it]\n"
          ]
        },
        {
          "output_type": "stream",
          "name": "stdout",
          "text": [
            "train Loss: 0.0525 Acc: 0.9839\n"
          ]
        },
        {
          "output_type": "stream",
          "name": "stderr",
          "text": [
            " 50%|█████     | 6/12 [00:10<00:05,  1.03it/s]"
          ]
        },
        {
          "output_type": "stream",
          "name": "stdout",
          "text": [
            "[ERROR] Cannot load image /content/drive/MyDrive/Teaching/CS114/CS114.P21/handwritten_digit_classification/NThong325_CS114/hand_written_digit/23521523/0_5.jpeg: cannot identify image file '/content/drive/MyDrive/Teaching/CS114/CS114.P21/handwritten_digit_classification/NThong325_CS114/hand_written_digit/23521523/0_5.jpeg'\n"
          ]
        },
        {
          "output_type": "stream",
          "name": "stderr",
          "text": [
            " 67%|██████▋   | 8/12 [00:12<00:04,  1.06s/it]"
          ]
        },
        {
          "output_type": "stream",
          "name": "stdout",
          "text": [
            "[ERROR] Cannot load image /content/drive/MyDrive/Teaching/CS114/CS114.P21/handwritten_digit_classification/NThong325_CS114/hand_written_digit/23521523/0_6.jpeg: cannot identify image file '/content/drive/MyDrive/Teaching/CS114/CS114.P21/handwritten_digit_classification/NThong325_CS114/hand_written_digit/23521523/0_6.jpeg'\n"
          ]
        },
        {
          "output_type": "stream",
          "name": "stderr",
          "text": [
            "\r 75%|███████▌  | 9/12 [00:15<00:04,  1.51s/it]"
          ]
        },
        {
          "output_type": "stream",
          "name": "stdout",
          "text": [
            "[ERROR] Cannot load image /content/drive/MyDrive/Teaching/CS114/CS114.P21/handwritten_digit_classification/NThong325_CS114/hand_written_digit/23521523/6_1.jpeg: cannot identify image file '/content/drive/MyDrive/Teaching/CS114/CS114.P21/handwritten_digit_classification/NThong325_CS114/hand_written_digit/23521523/6_1.jpeg'\n",
            "[ERROR] Cannot load image /content/drive/MyDrive/Teaching/CS114/CS114.P21/handwritten_digit_classification/NThong325_CS114/hand_written_digit/23521523/6_4.jpeg: cannot identify image file '/content/drive/MyDrive/Teaching/CS114/CS114.P21/handwritten_digit_classification/NThong325_CS114/hand_written_digit/23521523/6_4.jpeg'\n",
            "[ERROR] Cannot load image /content/drive/MyDrive/Teaching/CS114/CS114.P21/handwritten_digit_classification/NThong325_CS114/hand_written_digit/23521523/6_9.jpeg: cannot identify image file '/content/drive/MyDrive/Teaching/CS114/CS114.P21/handwritten_digit_classification/NThong325_CS114/hand_written_digit/23521523/6_9.jpeg'\n",
            "[ERROR] Cannot load image /content/drive/MyDrive/Teaching/CS114/CS114.P21/handwritten_digit_classification/NThong325_CS114/hand_written_digit/23521523/3_6.jpeg: cannot identify image file '/content/drive/MyDrive/Teaching/CS114/CS114.P21/handwritten_digit_classification/NThong325_CS114/hand_written_digit/23521523/3_6.jpeg'\n",
            "[ERROR] Cannot load image /content/drive/MyDrive/Teaching/CS114/CS114.P21/handwritten_digit_classification/NThong325_CS114/hand_written_digit/23521523/6_5.jpeg: cannot identify image file '/content/drive/MyDrive/Teaching/CS114/CS114.P21/handwritten_digit_classification/NThong325_CS114/hand_written_digit/23521523/6_5.jpeg'\n",
            "[ERROR] Cannot load image /content/drive/MyDrive/Teaching/CS114/CS114.P21/handwritten_digit_classification/NThong325_CS114/hand_written_digit/23521523/6_6.jpeg: cannot identify image file '/content/drive/MyDrive/Teaching/CS114/CS114.P21/handwritten_digit_classification/NThong325_CS114/hand_written_digit/23521523/6_6.jpeg'\n",
            "[ERROR] Cannot load image /content/drive/MyDrive/Teaching/CS114/CS114.P21/handwritten_digit_classification/NThong325_CS114/hand_written_digit/23521523/4_9.jpeg: cannot identify image file '/content/drive/MyDrive/Teaching/CS114/CS114.P21/handwritten_digit_classification/NThong325_CS114/hand_written_digit/23521523/4_9.jpeg'\n",
            "[ERROR] Cannot load image /content/drive/MyDrive/Teaching/CS114/CS114.P21/handwritten_digit_classification/NThong325_CS114/hand_written_digit/23521523/7_8.jpeg: cannot identify image file '/content/drive/MyDrive/Teaching/CS114/CS114.P21/handwritten_digit_classification/NThong325_CS114/hand_written_digit/23521523/7_8.jpeg'\n",
            "[ERROR] Cannot load image /content/drive/MyDrive/Teaching/CS114/CS114.P21/handwritten_digit_classification/NThong325_CS114/hand_written_digit/23521523/7_10.jpeg: cannot identify image file '/content/drive/MyDrive/Teaching/CS114/CS114.P21/handwritten_digit_classification/NThong325_CS114/hand_written_digit/23521523/7_10.jpeg'\n"
          ]
        },
        {
          "output_type": "stream",
          "name": "stderr",
          "text": [
            "\r 83%|████████▎ | 10/12 [00:23<00:06,  3.44s/it]"
          ]
        },
        {
          "output_type": "stream",
          "name": "stdout",
          "text": [
            "[ERROR] Cannot load image /content/drive/MyDrive/Teaching/CS114/CS114.P21/handwritten_digit_classification/NThong325_CS114/hand_written_digit/23521523/8_1.jpeg: cannot identify image file '/content/drive/MyDrive/Teaching/CS114/CS114.P21/handwritten_digit_classification/NThong325_CS114/hand_written_digit/23521523/8_1.jpeg'\n"
          ]
        },
        {
          "output_type": "stream",
          "name": "stderr",
          "text": [
            "100%|██████████| 12/12 [00:29<00:00,  2.44s/it]"
          ]
        },
        {
          "output_type": "stream",
          "name": "stdout",
          "text": [
            "val Loss: 0.5963 Acc: 0.8314\n",
            "No improvement for 2 epoch(s).\n",
            "\n",
            "Early stopping triggered after 2 epoch(s) without improvement.\n",
            "\n",
            "Training complete in 105m 35s\n",
            "Best val Acc: 0.8371\n"
          ]
        },
        {
          "output_type": "stream",
          "name": "stderr",
          "text": [
            "\n"
          ]
        }
      ],
      "source": [
        "model_save_path = '/content/drive/MyDrive/effnet_b2.pth'\n",
        "model = train_model(model, criterion, optimizer, scheduler,\n",
        "                    train_loader, test_loader,\n",
        "                    num_epochs=15, patience=2,\n",
        "                    save_path=model_save_path)"
      ]
    },
    {
      "cell_type": "markdown",
      "id": "ed2c9348",
      "metadata": {
        "id": "ed2c9348"
      },
      "source": [
        "# Eval"
      ]
    },
    {
      "cell_type": "code",
      "execution_count": null,
      "id": "07a72fd6",
      "metadata": {
        "id": "07a72fd6",
        "colab": {
          "base_uri": "https://localhost:8080/"
        },
        "outputId": "d5d2b698-aca2-4d81-9578-1e53e00e9a0b"
      },
      "outputs": [
        {
          "output_type": "stream",
          "name": "stdout",
          "text": [
            "Found 9998 images.\n"
          ]
        }
      ],
      "source": [
        "unlabeled_dir = r'/content/drive/MyDrive/data.2025'\n",
        "unlabeled_images = []\n",
        "\n",
        "for root, dirs, files in os.walk(unlabeled_dir):\n",
        "    for file in files:\n",
        "        if file.lower().endswith(('.jpg', '.jpeg', '.png', '.heic', '.jfif', '.md')):\n",
        "            unlabeled_images.append(os.path.join(root, file))\n",
        "        else:\n",
        "            print(f\"Skipped file: {file}\")\n",
        "\n",
        "print(f\"Found {len(unlabeled_images)} images.\")"
      ]
    },
    {
      "cell_type": "code",
      "execution_count": null,
      "id": "9dc6ec38",
      "metadata": {
        "id": "9dc6ec38"
      },
      "outputs": [],
      "source": [
        "class CustomDataset(Dataset):\n",
        "    def __init__(self, image_paths, transform=None):\n",
        "        self.image_paths = image_paths\n",
        "        self.transform = transform\n",
        "\n",
        "    def __len__(self):\n",
        "        return len(self.image_paths)\n",
        "\n",
        "    def __getitem__(self, idx):\n",
        "        path = self.image_paths[idx]\n",
        "        try:\n",
        "            if path.lower().endswith('.md'):\n",
        "                placeholder = torch.zeros((3, 288, 288), dtype=torch.float32)\n",
        "                return placeholder, os.path.basename(path)\n",
        "\n",
        "            file_size = os.path.getsize(path)\n",
        "            if file_size < 10:\n",
        "                placeholder = torch.zeros((3, 288, 288), dtype=torch.float32)\n",
        "                return placeholder, os.path.basename(path)\n",
        "\n",
        "            else:\n",
        "                image = Image.open(path).convert(\"RGB\")\n",
        "                image = to_image(image)\n",
        "                if self.transform:\n",
        "                    image = self.transform(image)\n",
        "                return image, os.path.basename(path)\n",
        "\n",
        "        except Exception as e:\n",
        "            print(f\"Error processing {path}: {str(e)}\")\n",
        "            placeholder = torch.zeros((3, 288, 288), dtype=torch.float32)\n",
        "            return placeholder, os.path.basename(path)"
      ]
    },
    {
      "cell_type": "code",
      "execution_count": null,
      "id": "705ad8d1",
      "metadata": {
        "id": "705ad8d1"
      },
      "outputs": [],
      "source": [
        "eval_dataset = CustomDataset(unlabeled_images, transform=test_transform)\n",
        "eval_loader = DataLoader(eval_dataset, batch_size=64, shuffle=False, num_workers=2)"
      ]
    },
    {
      "cell_type": "code",
      "source": [
        "import torch\n",
        "print(torch.cuda.is_available())"
      ],
      "metadata": {
        "colab": {
          "base_uri": "https://localhost:8080/"
        },
        "id": "aXgB5FA3Iyx0",
        "outputId": "c67d7480-1424-4633-de1d-08eb09691ea9"
      },
      "id": "aXgB5FA3Iyx0",
      "execution_count": null,
      "outputs": [
        {
          "output_type": "stream",
          "name": "stdout",
          "text": [
            "False\n"
          ]
        }
      ]
    },
    {
      "cell_type": "code",
      "execution_count": null,
      "id": "6a0f22bc",
      "metadata": {
        "id": "6a0f22bc",
        "colab": {
          "base_uri": "https://localhost:8080/"
        },
        "outputId": "26922f4d-1712-4626-a921-f8227fd44321"
      },
      "outputs": [
        {
          "output_type": "stream",
          "name": "stderr",
          "text": [
            "  1%|▏         | 2/157 [03:36<3:58:43, 92.41s/it] "
          ]
        }
      ],
      "source": [
        "from torchvision import models\n",
        "import torch.nn as nn\n",
        "\n",
        "model = models.efficientnet_b2(weights='IMAGENET1K_V1')\n",
        "num_ftrs = model.classifier[1].in_features\n",
        "model.classifier = nn.Sequential(\n",
        "    nn.Dropout(p=0.3, inplace=True),\n",
        "    nn.Linear(in_features=num_ftrs, out_features=10)  # 10 lớp (0-9)\n",
        ")\n",
        "\n",
        "# Load lại trọng số đã lưu\n",
        "model.load_state_dict(torch.load('/content/drive/MyDrive/effnet_b2.pth', map_location=device))\n",
        "model = model.to(device)\n",
        "\n",
        "model.eval()\n",
        "predictions = []\n",
        "filenames = []\n",
        "\n",
        "with torch.no_grad():\n",
        "    for images, image_paths in tqdm(eval_loader):\n",
        "        images = images.to(device)\n",
        "        outputs = model(images)\n",
        "        _, preds = torch.max(outputs, 1)\n",
        "\n",
        "        predictions.extend(preds.cpu().numpy())\n",
        "        filenames.extend(image_paths)"
      ]
    },
    {
      "cell_type": "code",
      "execution_count": null,
      "id": "b46da0bc",
      "metadata": {
        "id": "b46da0bc"
      },
      "outputs": [],
      "source": [
        "import pandas as pd\n",
        "\n",
        "results = pd.DataFrame({\n",
        "    'Filename': filenames,\n",
        "    'Prediction': predictions\n",
        "})\n",
        "\n",
        "output_path = '/content/drive/MyDrive/predictions.csv'\n",
        "results.to_csv(output_path, header=False, index=False)\n",
        "print(f\"Predictions saved to {output_path}\")"
      ]
    }
  ],
  "metadata": {
    "kernelspec": {
      "display_name": "Python 3",
      "name": "python3"
    },
    "language_info": {
      "codemirror_mode": {
        "name": "ipython",
        "version": 3
      },
      "file_extension": ".py",
      "mimetype": "text/x-python",
      "name": "python",
      "nbconvert_exporter": "python",
      "pygments_lexer": "ipython3",
      "version": "3.12.0"
    },
    "colab": {
      "provenance": [],
      "gpuType": "T4"
    },
    "accelerator": "GPU"
  },
  "nbformat": 4,
  "nbformat_minor": 5
}